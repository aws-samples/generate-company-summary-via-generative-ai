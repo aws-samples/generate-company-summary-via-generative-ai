{
 "cells": [
  {
   "cell_type": "markdown",
   "id": "04518fe4-8a69-438a-b47f-afb940aabf57",
   "metadata": {},
   "source": [
    "# Generating Company Summaries using Generative Artificial Intelligence\n",
    "---\n",
    "This notebook shows how you can use Web Search-Augmented Generation to quickly, cheaply, and accurately generate a short summary of a company, given it's web site."
   ]
  },
  {
   "cell_type": "markdown",
   "id": "0bf6047d-0754-4211-992f-751112533a3c",
   "metadata": {
    "tags": []
   },
   "source": [
    "## Parameters"
   ]
  },
  {
   "cell_type": "code",
   "execution_count": null,
   "id": "113a6e01-4360-4798-b26a-c0f3b59de7aa",
   "metadata": {
    "tags": [
     "parameters"
    ]
   },
   "outputs": [],
   "source": [
    "# These are used by papermill; see generate-multiple-summaries.py\n",
    "company_URL = \"https://www.agios.com/\"\n",
    "enable_test_harness = False # disable test harness when generating summaries"
   ]
  },
  {
   "cell_type": "markdown",
   "id": "0786e5f3-c29b-4ba3-895c-f83646c3ac1d",
   "metadata": {},
   "source": [
    "To access the Bedrock API from this notebook the notebook's execution role must have a policy to allow Bedrock access. To find this notebook's execution role run the following code in this notebook:\n",
    "```\n",
    "print(get_execution_role())\n",
    "```\n",
    "and then go to the IAM console and add the policy AmazonBedrockFullAccess. You can similarly provide access to S3 and to Textract."
   ]
  },
  {
   "cell_type": "markdown",
   "id": "ad6d503e-8315-4442-b200-3a8f8e276af6",
   "metadata": {},
   "source": [
    "After signing up for an account at `serpapi.com`, enter your API key here:"
   ]
  },
  {
   "cell_type": "code",
   "execution_count": null,
   "id": "0bec026e-9bdd-4b9d-b489-4745781ce1b0",
   "metadata": {
    "tags": []
   },
   "outputs": [],
   "source": [
    "%env SERPAPI_API_KEY=<...>"
   ]
  },
  {
   "cell_type": "code",
   "execution_count": null,
   "id": "1ddcb192-6a1f-44a0-94e5-75f6e9b8aefe",
   "metadata": {
    "tags": []
   },
   "outputs": [],
   "source": [
    "BUCKET_NAME=\"sgh-misc\"  # change this to an s3 bucket in your account"
   ]
  },
  {
   "cell_type": "code",
   "execution_count": null,
   "id": "5bdc9929-ab6b-463a-861e-df87dc97a8ef",
   "metadata": {
    "tags": []
   },
   "outputs": [],
   "source": [
    "# Uncomment these the first time you run this notebook:\n",
    "# %pip install -q requests==2.31.0\n",
    "# %pip install -q langchain==0.1.9\n",
    "# %pip install langchain-community==0.0.24\n",
    "# %pip install -q boto3==1.34.51\n",
    "# %pip install -q botocore==1.34.51\n",
    "# %pip install -q python-dateutil==2.8.2\n",
    "# %pip install -q dateparser==1.2.0\n",
    "# %pip install -q amazon-textract-caller==0.2.2\n",
    "# %pip install -q amazon-textract-textractor==1.7.4\n",
    "# %pip install -q papermill==2.5.0\n",
    "# %pip install -q jinja2==3.1.3\n",
    "# %pip install -q beautifulsoup4==4.12.3"
   ]
  },
  {
   "cell_type": "code",
   "execution_count": null,
   "id": "e6eb62c0-94a2-40a1-9b51-6785f8ea99d4",
   "metadata": {
    "tags": []
   },
   "outputs": [],
   "source": [
    "import json, os\n",
    "from typing import Callable, List, Tuple, Iterable, Optional, Dict, Union\n",
    "import time\n",
    "from pathlib import Path\n",
    "from urllib.parse import urlparse\n",
    "import importlib\n",
    "import datetime\n",
    "from functools import lru_cache, partial\n",
    "\n",
    "import utilities as u\n",
    "\n",
    "import boto3, botocore\n",
    "from IPython.display import HTML, display\n",
    "import jinja2\n",
    "import dateparser\n",
    "from langchain.llms import Bedrock\n",
    "from urllib3.exceptions import MaxRetryError \n",
    "import sagemaker"
   ]
  },
  {
   "cell_type": "code",
   "execution_count": null,
   "id": "10d295f6-425e-45cd-aac9-e4b547673021",
   "metadata": {
    "tags": []
   },
   "outputs": [],
   "source": [
    "importlib.reload(u) # You can use this during development to avoid restarting the kernel"
   ]
  },
  {
   "cell_type": "code",
   "execution_count": null,
   "id": "ecc6fdf7-e76e-425a-b30b-75a08a0e8b03",
   "metadata": {
    "tags": []
   },
   "outputs": [],
   "source": [
    "start_time = time.time()"
   ]
  },
  {
   "cell_type": "code",
   "execution_count": null,
   "id": "972e7be5-d2aa-4693-a8d4-fd5d5e233920",
   "metadata": {
    "tags": []
   },
   "outputs": [],
   "source": [
    "num_threads = 10\n",
    "jenv = jinja2.Environment(trim_blocks=True, lstrip_blocks=True)\n",
    "bedrock_runtime = boto3.client(\"bedrock-runtime\")\n",
    "bedrock = boto3.client(\"bedrock\")\n",
    "s3 = boto3.client(\"s3\")\n",
    "textract = boto3.client('textract')\n",
    "# model_id = \"anthropic.claude-3-haiku-20240307-v1:0\"\n",
    "model_id=\"anthropic.claude-3-sonnet-20240229-v1:0\"\n",
    "temperature=0.1\n",
    "run_model = u.create_bedrock_runner(bedrock_runtime, model_id, temperature)"
   ]
  },
  {
   "cell_type": "code",
   "execution_count": null,
   "id": "b67e170b-7c6e-42ba-aacd-59fffb2473ce",
   "metadata": {
    "tags": []
   },
   "outputs": [],
   "source": [
    "curl_headers = {\n",
    "    \"User-Agent\": \"curl/8.1.2\",\n",
    "    \"Accept\": \"*/*\"\n",
    "}\n",
    "company_URLs = [\n",
    "        \"https://www.agios.com\",\n",
    "        \"https://www.morphosys.com/en\",\n",
    "        \"https://incyte.com\",\n",
    "        \"https://www.protagonist-inc.com\",\n",
    "        \"https://kerostx.com\",\n",
    "        \"https://vaderis.com\",\n",
    "        \"https://hemavant.com\",\n",
    "        \"https://www.intelliatx.com\",\n",
    "        \"https://beamtx.com\",\n",
    "        \"https://www.capstantx.com\",\n",
    "        \"https://renagadetx.com\",\n",
    "        \"https://arbor.bio\"\n",
    "]"
   ]
  },
  {
   "cell_type": "code",
   "execution_count": null,
   "id": "cd4ef5b7-e225-4296-afa2-f7772552a3dd",
   "metadata": {
    "tags": []
   },
   "outputs": [],
   "source": [
    "def company_name_from_URL_as_html(_company_name: str, company_URL: str ) -> str:\n",
    "    \"\"\" company name is ignored, this lets us use the test harness \"\"\"\n",
    "    return company_name_from_URL(company_URL)"
   ]
  },
  {
   "cell_type": "code",
   "execution_count": null,
   "id": "17a28c54-73cc-43c0-ada3-6eabc4899a09",
   "metadata": {
    "tags": []
   },
   "outputs": [],
   "source": [
    "@lru_cache\n",
    "def company_name_from_URL(company_URL: str) -> str:\n",
    "    \"\"\"\n",
    "    Use the LLM to infer the name of the company from its URL.\n",
    "    \"\"\"\n",
    "    try:\n",
    "        text_contents = u.download_web_page_as_text(company_URL, s3, textract,\n",
    "                                                    BUCKET_NAME, headers=curl_headers)\n",
    "        if not text_contents:\n",
    "            return \"unknown company\"\n",
    "    except (ConnectionError, MaxRetryError) as ex:\n",
    "        print(f\"Failed to download {URL}: {ex}\")\n",
    "        return \"unknown company\"\n",
    "\n",
    "    prompt = u.strip_multiline_whitespace(f\"\"\"\\\n",
    "        You are a researcher at a biopharmaceutical company who has been tasked\n",
    "        with determining what the name of a company is. The following is the contents\n",
    "        of this company's main web page:\n",
    "         \n",
    "        <HTML_contents>\n",
    "        {text_contents}\n",
    "        </HTML_contents>\n",
    "        \n",
    "        Based on this web page you must determine the name of this company and \n",
    "        return it in <company_name></company_name> tags. Always return the full \n",
    "        name of the company, for example if the name is \"Foo Therapeutics\" then\n",
    "        you should return that, not \"Foo\".\n",
    "        \"\"\")\n",
    "    try:\n",
    "        result = run_model(prompt)\n",
    "        tags = u.extract_multiple_tags(result)\n",
    "        return tags[\"company_name\"].strip()\n",
    "    except Exception as ex:\n",
    "        print(ex)\n",
    "        return \"unknown company\""
   ]
  },
  {
   "cell_type": "code",
   "execution_count": null,
   "id": "7ef89a0d-41f4-4af1-93cb-a544314bf3d8",
   "metadata": {
    "tags": []
   },
   "outputs": [],
   "source": [
    "company_name = company_name_from_URL(company_URL)\n",
    "company_name"
   ]
  },
  {
   "cell_type": "code",
   "execution_count": null,
   "id": "9cfba06f-0395-4365-ba3c-809525141d7a",
   "metadata": {
    "tags": []
   },
   "outputs": [],
   "source": [
    "WSAG = partial(u.WSAG,\n",
    "               model_runner=run_model,\n",
    "               company_name=company_name,\n",
    "               company_url=company_URL,\n",
    "               num_threads=num_threads)\n",
    "\n",
    "search_result_downloader = partial(\n",
    "    u.search_result_downloader,\n",
    "    bucket_name=BUCKET_NAME,\n",
    "    headers=curl_headers,\n",
    "    s3_client=s3,\n",
    "    textract_client=textract)"
   ]
  },
  {
   "cell_type": "markdown",
   "id": "fb7a5990-0b1a-4d56-a13b-d9d6bb5569ec",
   "metadata": {},
   "source": [
    "## Generate the Company Summary"
   ]
  },
  {
   "cell_type": "markdown",
   "id": "0a1e56a0-2d13-4f58-96a7-1d8d2f726f0f",
   "metadata": {},
   "source": [
    "## Is it a publicly-traded company?"
   ]
  },
  {
   "cell_type": "code",
   "execution_count": null,
   "id": "b0b28c65-d8fb-4667-908f-f057fc4b1b9c",
   "metadata": {
    "tags": []
   },
   "outputs": [],
   "source": [
    "def publicly_traded_mapper(search_result: dict,\n",
    "                           text_contents: str,\n",
    "                           company_name: str) -> str:\n",
    "    if text_contents:\n",
    "        prompt = u.strip_multiline_whitespace(f\"\"\"\\\n",
    "            You are a researcher who has been tasked\n",
    "            with determining whether {company_name} is publicly-traded.\n",
    "            \n",
    "            You have access to the following web page:\n",
    "             \n",
    "            <HTML_contents>\n",
    "            {text_contents}\n",
    "            </HTML_contents>\n",
    "            \n",
    "            Based on this web page, return either \"True\" or \"False\" if you think this company\n",
    "            is or isn't publicly traded. If you don't know return \"unknown\". You must wrap your\n",
    "            result in <result></result> tags.\n",
    "            \n",
    "            Also, if this company IS publicly-traded then return its stock ticker in\n",
    "            <ticker></ticker> tags.\n",
    "            \"\"\")\n",
    "        result = run_model(prompt)\n",
    "        tags = u.extract_multiple_tags(result)\n",
    "        if \"result\" not in tags or tags[\"result\"] == \"unknown\":\n",
    "            result = \"unknown\"\n",
    "        else:\n",
    "            result = tags[\"result\"].strip()\n",
    "        if \"ticker\" not in tags or tags[\"ticker\"] == \"unknown\":\n",
    "            ticker = \"unknown\"\n",
    "        else:\n",
    "            ticker = tags[\"ticker\"].strip()\n",
    "        return result, ticker\n",
    "    else:\n",
    "        return \"unknown\", \"unknown\"\n",
    "\n",
    "\n",
    "def is_publicly_traded(company_name: str,\n",
    "                       company_url: str) -> Tuple[bool, str]:\n",
    "    \n",
    "    def reducer(map_results: Iterable[Union[str, dict]]) -> str:\n",
    "        map_results = list(map_results)\n",
    "        if len(map_results) > 0:\n",
    "            is_publics, tickers = zip(*map_results)\n",
    "            is_public = u.most_common_elem(is_publics)\n",
    "            ticker = u.most_common_elem(tickers)\n",
    "            return False if is_public == \"unknown\" else is_public,\\\n",
    "                   ticker\n",
    "        else:\n",
    "            return False, None\n",
    "\n",
    "    return WSAG(\n",
    "        web_search_query=f\"Is {company_name} publicly-traded?\",\n",
    "        num_web_search_results=5, web_search_timeout=20,\n",
    "        search_result_downloader=search_result_downloader,\n",
    "        search_result_mapper=partial(publicly_traded_mapper,\n",
    "                                     company_name=company_name),\n",
    "        reducer=reducer)"
   ]
  },
  {
   "cell_type": "code",
   "execution_count": null,
   "id": "0f0c547d-ecf3-4def-8f2f-f7ad8bd98dca",
   "metadata": {
    "tags": []
   },
   "outputs": [],
   "source": [
    "# is_publicly_traded(\"Amgen\", \"https://amgen.com\")\n",
    "# is_publicly_traded(\"protagonist therapeutics\", \"https://www.protagonist-inc.com\")\n",
    "# is_publicly_traded(\"relay therapeutics\", \"https://www.relaytx.com\")"
   ]
  },
  {
   "cell_type": "markdown",
   "id": "c5a228a0-eeac-449d-b1ea-dc6902ca92e6",
   "metadata": {},
   "source": [
    "## What is the Market Opportunity?"
   ]
  },
  {
   "cell_type": "code",
   "execution_count": null,
   "id": "869f9df2-d9db-4bfa-8671-f8a9df852ea0",
   "metadata": {
    "tags": []
   },
   "outputs": [],
   "source": [
    "def market_opportunity_mapper(search_result: dict,\n",
    "                              text_contents: str,\n",
    "                              company_name: str) -> str:\n",
    "    if text_contents:\n",
    "        prompt = u.strip_multiline_whitespace(f\"\"\"\\\n",
    "            You are a researcher who has been tasked\n",
    "            with determining the size and growth rate of the market that\n",
    "            {company_name} operates in.\n",
    "            \n",
    "            You have access to the following web page:\n",
    "             \n",
    "            <HTML_contents>\n",
    "            {text_contents}\n",
    "            </HTML_contents>\n",
    "            \n",
    "            Based on this web page, summarize the market opportunity for {company_name}\n",
    "            and return your result in <result></result> tags. If, based on this web page, \n",
    "            you don't know what the market opportunity is then you must return\n",
    "            <result>unknown</result>.\n",
    "            \"\"\")\n",
    "        result = run_model(prompt)\n",
    "        tags = u.extract_multiple_tags(result)\n",
    "        if \"result\" not in tags or tags[\"result\"] == \"unknown\":\n",
    "            result = \"unknown\"\n",
    "        else:\n",
    "            result = tags[\"result\"].strip()\n",
    "        return result\n",
    "    else:\n",
    "        return \"unknown\"\n",
    "\n",
    "\n",
    "def market_opportunity(company_name: str, company_url: str) -> bool:\n",
    "    return WSAG(\n",
    "        web_search_query=f\"What is the size and growth rate of the market that {company_name} operates in?\",\n",
    "        num_web_search_results=10, web_search_timeout=20,\n",
    "        search_result_downloader=search_result_downloader,\n",
    "        search_result_mapper=partial(market_opportunity_mapper,\n",
    "                                     company_name=company_name))"
   ]
  },
  {
   "cell_type": "code",
   "execution_count": null,
   "id": "f11f9afb-1f63-429c-9781-5d8027e5bf21",
   "metadata": {
    "tags": []
   },
   "outputs": [],
   "source": [
    "# market_opportunity(\"relay therapeutics\", \"https://www.relaytx.com\")"
   ]
  },
  {
   "cell_type": "markdown",
   "id": "1546aacc-f2d9-49a4-a0fc-eabb9321972a",
   "metadata": {},
   "source": [
    "## What does the company do, what are its top products?"
   ]
  },
  {
   "cell_type": "code",
   "execution_count": null,
   "id": "0548fd5e-2276-4f84-900c-8555ecf660b1",
   "metadata": {
    "tags": []
   },
   "outputs": [],
   "source": [
    "def top_products_mapper(search_result: dict,\n",
    "                        text_contents: str,\n",
    "                        company_name: str) -> str:\n",
    "    prompt = u.strip_multiline_whitespace(f\"\"\"\\\n",
    "        You are a researcher at who has been tasked with determining what the\n",
    "        top products of {company_name} are.\n",
    "        \n",
    "        You have access to the following web page:\n",
    "         \n",
    "        <HTML_contents>\n",
    "        {text_contents}\n",
    "        </HTML_contents>\n",
    "        \n",
    "        If this web page contains information about what the top products of\n",
    "        {company_name} then extract and summarize that information in 5-6\n",
    "        sentences and put it in n<result></result> tags.\n",
    "        \n",
    "        If this web page doesn't contain useful information about what the top\n",
    "        products of {company_name} then you MUST say <no_result></no_result>.\n",
    "        \"\"\")\n",
    "    try:\n",
    "        result = run_model(prompt)\n",
    "        tags = u.extract_multiple_tags(result)\n",
    "        if \"no_result\" in tags:\n",
    "            result = None\n",
    "        elif \"result\" not in tags:\n",
    "            result = None\n",
    "        elif \"i don't know\" in tags[\"result\"].strip().lower():\n",
    "            result = None\n",
    "        else:\n",
    "            result = tags[\"result\"].strip()\n",
    "    except ValueError as ex:\n",
    "        print(ex)\n",
    "        result = None\n",
    "    return result"
   ]
  },
  {
   "cell_type": "code",
   "execution_count": null,
   "id": "857454d0-391f-4ce1-b386-19e455e8b0d4",
   "metadata": {
    "tags": []
   },
   "outputs": [],
   "source": [
    "@u.test_wrapper(globals())\n",
    "def generate_top_products_html(company_name: str, company_url: str) -> str:\n",
    "    return WSAG(\n",
    "        web_search_query=f\"What are the top products of {company_name}? \"\n",
    "                     f\"site:{u.extract_site_from_URL(company_url)}\",\n",
    "        num_web_search_results=5, web_search_timeout=20,\n",
    "        search_result_downloader=search_result_downloader,\n",
    "        search_result_mapper=partial(top_products_mapper,\n",
    "                                     company_name=company_name))"
   ]
  },
  {
   "cell_type": "code",
   "execution_count": null,
   "id": "a622fdda-5107-4b56-9a38-da84dfb01501",
   "metadata": {
    "tags": []
   },
   "outputs": [],
   "source": [
    "test_generate_top_products_html(\"Incyte\", \"https://incyte.com\")"
   ]
  },
  {
   "cell_type": "code",
   "execution_count": null,
   "id": "d5fd8cc9-7dcd-4fa3-ab2b-eda01fcdf3d2",
   "metadata": {
    "tags": []
   },
   "outputs": [],
   "source": [
    "def what_they_do_mapper(search_result: dict,\n",
    "                        text_contents: str,\n",
    "                        company_name: str) -> str:\n",
    "    \"\"\"\n",
    "    Return an HTML string that describes what the company does based on\n",
    "    the contents of a web page.\n",
    "    \"\"\"\n",
    "    prompt = u.strip_multiline_whitespace(f\"\"\"\\\n",
    "        You are a researcher who has been tasked with determining what\n",
    "        {company_name} does.\n",
    "        \n",
    "        You have access to the following web page from {company_name}'s web site:\n",
    "         \n",
    "        <HTML_contents>\n",
    "        {text_contents}\n",
    "        </HTML_contents>\n",
    "        \n",
    "        If this web page contains information about what {company_name} does\n",
    "        then extract and summarize that information in 5-6 sentences and put it in\n",
    "        <result></result> tags.\n",
    "        \n",
    "        If this web page doesn't contain useful information about what {company_name}\n",
    "        does then you MUST say <result>I don't know</result>.\n",
    "        \"\"\")\n",
    "    try:\n",
    "        result = run_model(prompt)\n",
    "        tags = u.extract_multiple_tags(result)\n",
    "        if \"result\" not in tags:\n",
    "            result = None\n",
    "        elif \"i don't know\" in tags[\"result\"].strip().lower():\n",
    "            result = None\n",
    "        else:\n",
    "            result = tags[\"result\"].strip()\n",
    "    except ValueError as ex:\n",
    "        print(ex)\n",
    "        result = None\n",
    "    return result"
   ]
  },
  {
   "cell_type": "code",
   "execution_count": null,
   "id": "d1673edb-12f4-4f43-8810-211657afd78c",
   "metadata": {
    "tags": []
   },
   "outputs": [],
   "source": [
    "@u.test_wrapper(globals())\n",
    "def generate_what_they_do_html(company_name: str, company_url: str) -> str:\n",
    "    return WSAG(\n",
    "        web_search_query=f\"What does {company_name} do? site:{u.extract_site_from_URL(company_url)}\",\n",
    "        num_web_search_results=5, web_search_timeout=20,\n",
    "        search_result_mapper=partial(what_they_do_mapper,\n",
    "                                     company_name=company_name),\n",
    "        search_result_downloader=search_result_downloader)"
   ]
  },
  {
   "cell_type": "code",
   "execution_count": null,
   "id": "6df32868-e326-493e-b813-1c626b72ac10",
   "metadata": {
    "tags": []
   },
   "outputs": [],
   "source": [
    "test_generate_what_they_do_html(\"Incyte\", \"https://incyte.com\")"
   ]
  },
  {
   "cell_type": "code",
   "execution_count": null,
   "id": "f170fc04-17b6-450a-b514-82c65b95d947",
   "metadata": {
    "tags": []
   },
   "outputs": [],
   "source": [
    "importlib.reload(u)\n",
    "\n",
    "@u.test_wrapper(globals())\n",
    "def generate_company_summary_html(company_name: str, company_url: str) -> str:\n",
    "    \"\"\"\n",
    "    Return an HTML string that contains two paragraphs: the first describes\n",
    "    what this company does, the second describes what products they sell.\n",
    "    \"\"\"\n",
    "    what_they_do_html = generate_what_they_do_html(company_name, company_url)\n",
    "    top_products_html = generate_top_products_html(company_name, company_url)\n",
    "    return f\"{what_they_do_html}\\n<p>\\n{top_products_html}\"    "
   ]
  },
  {
   "cell_type": "code",
   "execution_count": null,
   "id": "1d78f6a2-1943-4d87-8ab9-df9c06ea0fc7",
   "metadata": {
    "tags": []
   },
   "outputs": [],
   "source": [
    "test_generate_company_summary_html(\"Incyte\", \"https://incyte.com\")"
   ]
  },
  {
   "cell_type": "markdown",
   "id": "da84f028-f3e0-4d3f-b8f4-581edb007e3a",
   "metadata": {},
   "source": [
    "## Leadership"
   ]
  },
  {
   "cell_type": "code",
   "execution_count": null,
   "id": "d44c5ed2-47fb-4a77-a9cd-7d17c2d70f2b",
   "metadata": {
    "tags": []
   },
   "outputs": [],
   "source": [
    "def leadership_mapper(search_result: dict,\n",
    "                      job_role: str,\n",
    "                      company_name: str,\n",
    "                      text_contents: str) -> str:\n",
    "    prompt = u.strip_multiline_whitespace(f\"\"\"\\\n",
    "        You are a researcher at a company who has been tasked\n",
    "        with finding out who the {job_role} is at {company_name}. You have\n",
    "        access to the following web page from {company_name}'s web site:\n",
    "         \n",
    "        <HTML_contents>\n",
    "        {text_contents}\n",
    "        </HTML_contents>\n",
    "        \n",
    "        Extract all information about the current {job_role} that you can find on this web page.\n",
    "        \n",
    "        If you do find information about the {job_role} then return their name in <name></name>\n",
    "        tags, their title in <title></title> tags, and return a 3-5 sentence bio in <bio></bio>\n",
    "        tags. Return only information about THIS role/title, do not return anything about other roles.\n",
    "        \n",
    "        You must not make anything up, if you don't know something then leave it out.\n",
    "        \"\"\")\n",
    "    try:\n",
    "        result = run_model(prompt)\n",
    "        return u.extract_multiple_tags(result)\n",
    "    except ValueError as ex:\n",
    "        print(ex)\n",
    "        return None"
   ]
  },
  {
   "cell_type": "code",
   "execution_count": null,
   "id": "87e34103-6e8e-4bdd-909a-3181668628a7",
   "metadata": {
    "tags": []
   },
   "outputs": [],
   "source": [
    "leadership_roles = [\n",
    "    \"Chief Executive Officer\",\n",
    "    \"Chief Financial Officer\",\n",
    "    \"Chief Science Officer\",\n",
    "    \"Chief Medical Officer\",\n",
    "    \"Chief Operating Officer\"\n",
    "]\n",
    "\n",
    "@u.test_wrapper(globals())\n",
    "def generate_leadership_team_html(company_name: str, company_url: str) -> str:\n",
    "    \"\"\"\n",
    "    Return an HTML string that describes the key leaders at this company.\n",
    "    \"\"\"\n",
    "    print(f\"++++++ generate_leadership_team_html {company_name} {company_url}\")\n",
    "\n",
    "    def search_result_filter(idx: int, search_result: dict,\n",
    "                             search_result_downloader: Callable[[dict, dict], str] = None\n",
    "                       ) -> Tuple[bool, Optional[str]]:\n",
    "        this_URL = search_result[\"link\"]\n",
    "        # is the top hit from the company's website?\n",
    "        parsed_URL = urlparse(this_URL)\n",
    "        if u.same_TLD(parsed_URL.netloc, u.extract_site_from_URL(company_url)):\n",
    "            content = search_result_downloader(search_result=search_result,\n",
    "                                               cached_contents=None)\n",
    "            if content is None:\n",
    "                print(f\"Ignoring {this_URL} due to empty content\")\n",
    "                return False, None\n",
    "            else:\n",
    "                return True, content\n",
    "        else:\n",
    "            print(f\"Ignoring hit #{idx} {this_URL}: wrong TLD\")\n",
    "            return False, None\n",
    "\n",
    "    def evaluator(search_result: dict, mapper_result: str):\n",
    "        \"\"\" Is this a valid result? If so, we stop evaluating search results. \"\"\"\n",
    "        return mapper_result and \\\n",
    "               mapper_result.get(\"name\", None) and \\\n",
    "               mapper_result.get(\"title\", None)\n",
    "        \n",
    "    leaders = []\n",
    "    for role in leadership_roles:\n",
    "        print(f\"\\nRole {role}\")\n",
    "        result = WSAG(\n",
    "            web_search_query=f\"{role} {company_name}\",\n",
    "            num_web_search_results=3, web_search_timeout=20,\n",
    "            mode = u.Mode.FIRST_HIT,\n",
    "            search_result_downloader=search_result_downloader,\n",
    "            search_result_mapper=partial(leadership_mapper,\n",
    "                                         company_name=company_name,\n",
    "                                         job_role=role),\n",
    "            search_result_evaluator=evaluator,\n",
    "            search_result_filter=partial(search_result_filter,\n",
    "                                         search_result_downloader=search_result_downloader))\n",
    "        leaders.append(result)\n",
    "\n",
    "    leaders = [x for x in leaders if x and x.get(\"name\", None) and x[\"name\"].strip() != \"\"]\n",
    "    for leader in leaders:\n",
    "        for k, v in leader.items():\n",
    "            leader[k] = u.escape_HTML_text(v)\n",
    "    template = u.strip_multiline_whitespace(\"\"\"\\\n",
    "        <ul>\n",
    "          {% for leader in leaders %}\n",
    "              <li> {{leader.name}}, {{leader.title}}. {{leader.bio}}\n",
    "          {% endfor %}\n",
    "        </ul>\n",
    "        \"\"\")\n",
    "    html = jenv.from_string(template).render(leaders=leaders)\n",
    "    return html"
   ]
  },
  {
   "cell_type": "code",
   "execution_count": null,
   "id": "448ca680-d60e-449c-ac35-7e7b706ead6a",
   "metadata": {
    "tags": []
   },
   "outputs": [],
   "source": [
    "test_generate_leadership_team_html(\"Beam Therapeutics\", \"https://beamtx.com\")"
   ]
  },
  {
   "cell_type": "markdown",
   "id": "70e9382d-1c2c-4abb-b83c-e264247f2466",
   "metadata": {},
   "source": [
    "## Press Releases\n",
    "\n",
    "The approach here is two-fold:\n",
    "\n",
    "1. Use a web search to find individual pages on the company's web site where each page contains one press release. Then we use an LLM to verify that each page actually contains a press release and to extract metadata. This approach fails if the press releases are stored on a 3rd-party web site.\n",
    "\n",
    "2. Use a web search to find press releases about this company on prnewswire.com. Verify and extract metadata as above. This only works if the press releases are hosted by prnewswire.\n",
    "\n",
    "We combine these by first trying approach #1. If we get zero results then we fallback to approach #2."
   ]
  },
  {
   "cell_type": "code",
   "execution_count": null,
   "id": "a429edff-ea45-44ec-a595-86cebe593c36",
   "metadata": {
    "tags": []
   },
   "outputs": [],
   "source": [
    "def external_PR_mapper(search_result: dict,\n",
    "                       text_contents: str,\n",
    "                       company_name: str) -> str:\n",
    "    prompt = u.strip_multiline_whitespace(f\"\"\"\\\n",
    "        You are a researcher at a biopharmaceutical company who has been tasked\n",
    "        with finding out what press releases have recently published by {company_name}.\n",
    "        \n",
    "        You have access to the following web page:\n",
    "         \n",
    "        <HTML_contents>\n",
    "        {text_contents}\n",
    "        </HTML_contents>\n",
    "        \n",
    "        Given this web page I want you to analyze it and compute four values, each in XML tags:\n",
    "        \n",
    "         + Does this web page contain a single press release, not a listing of press releases? If so\n",
    "           return <contains_PR>True</contains_PR> otherwise return <contains_PR>False</contains_PR>.\n",
    "         + Is the press release on this page authored by {company_name}? Return \n",
    "           <authored_by>True/False</authored_by> accordingly.\n",
    "         + If this page does contain a single press release then when was it published? Return your\n",
    "           result in <publication_date></publication_date> tags.\n",
    "         + If this page does contain a single press release then does it describe financial information\n",
    "           like quarterly results? If so return <is_financial>True</is_financial>, otherwise\n",
    "           return <is_financial>True</is_financial>.\n",
    "         + If this page does contain a single press release then return the title (in <title></title> tags)\n",
    "           and a 3-5 sentence abstract (in <abstract></abstract> tags).\n",
    "        \"\"\")\n",
    "    try:\n",
    "        result = run_model(prompt)\n",
    "        tags = u.extract_multiple_tags(result)\n",
    "        return tags\n",
    "    except ValueError as ex:\n",
    "        print(ex)\n",
    "        return {}"
   ]
  },
  {
   "cell_type": "code",
   "execution_count": null,
   "id": "8833c395-f6d3-435a-91c5-22980998be80",
   "metadata": {
    "tags": []
   },
   "outputs": [],
   "source": [
    "def press_release_reducer(map_results: Iterable[Union[str, dict]],\n",
    "                          is_in_situ: bool = False) -> str:\n",
    "    press_releases = list(map_results)\n",
    "    press_releases = list(filter(None, press_releases)) # remove Nones\n",
    "    if not is_in_situ:\n",
    "        press_releases = [pr for pr in press_releases\n",
    "                             if pr.get(\"authored_by\", \"False\").strip().lower() == \"true\"]\n",
    "    return press_releases\n",
    "\n",
    "\n",
    "@u.test_wrapper(globals())\n",
    "def generate_list_of_externally_hosted_PRs(company_name: str, company_url: str) -> List[dict]:\n",
    "    return WSAG(\n",
    "        web_search_query=f\"{company_name} site:prnewswire.com\",\n",
    "        num_web_search_results=20, web_search_timeout=20,\n",
    "        search_result_mapper=partial(external_PR_mapper,\n",
    "                                     company_name=company_name),\n",
    "        search_result_downloader=search_result_downloader,\n",
    "        reducer=press_release_reducer)"
   ]
  },
  {
   "cell_type": "code",
   "execution_count": null,
   "id": "d795b2b5-0f31-475d-a728-9f07d67e796f",
   "metadata": {
    "tags": []
   },
   "outputs": [],
   "source": [
    "test_generate_list_of_externally_hosted_PRs(\"Incyte\", \"https://incyte.com\")"
   ]
  },
  {
   "cell_type": "code",
   "execution_count": null,
   "id": "ac58c204-c088-4dac-8f54-3a413ca97093",
   "metadata": {
    "tags": []
   },
   "outputs": [],
   "source": [
    "today = dateparser.parse(\"now\")\n",
    "one_year = datetime.timedelta(days=365)\n",
    "two_years = datetime.timedelta(days=2*365)\n",
    "\n",
    "def parse_date(s: str) -> datetime.datetime:\n",
    "    \"\"\" Remove any timezone info, if there, so we can do easy comparison with `now` \"\"\"\n",
    "    try:\n",
    "        dt = dateparser.parse(s)\n",
    "        dt = dt.replace(tzinfo=None)\n",
    "        return dt\n",
    "    except Exception as ex:\n",
    "        return today # this is a hack not sure what else to do if date is malformed\n",
    "\n",
    "\n",
    "def published_recently(pr: dict, cutoff: datetime.timedelta) -> bool:\n",
    "    if pr[\"publication_date\"]:\n",
    "        return (today - parse_date(pr[\"publication_date\"])) < cutoff\n",
    "    else:\n",
    "        return True # if no publication date, let's assume it's recent\n",
    "\n",
    "\n",
    "def remove_extraneous_PRs(press_releases: List[dict]) -> List[dict]:\n",
    "    press_releases = [pr for pr in press_releases\n",
    "                       if pr[\"contains_PR\"].strip().lower() == \"true\" and\\\n",
    "                          pr[\"is_financial\"].strip().lower() != \"true\"]\n",
    "    # Ideally, limit to those published in the last year, if that produces\n",
    "    # zero results then relax that to two years\n",
    "    result = [pr for pr in press_releases if published_recently(pr, cutoff=one_year)]\n",
    "    return result or [pr for pr in press_releases if published_recently(pr, cutoff=two_years)]"
   ]
  },
  {
   "cell_type": "code",
   "execution_count": null,
   "id": "f8e7aebd-7bc7-43ed-9c23-431490bba015",
   "metadata": {
    "tags": []
   },
   "outputs": [],
   "source": [
    "def in_situ_PR_mapper(search_result: dict,\n",
    "                      text_contents: str,\n",
    "                      company_name: str) -> str:\n",
    "    prompt = u.strip_multiline_whitespace(f\"\"\"\\\n",
    "        You are a researcher at a biopharmaceutical company who has been tasked\n",
    "        with finding out what press releases have recently published by {company_name}.\n",
    "        \n",
    "        You have access to the following web page from {company_name}'s web site:\n",
    "         \n",
    "        <HTML_contents>\n",
    "        {text_contents}\n",
    "        </HTML_contents>\n",
    "        \n",
    "        Given this web page I want you to analyze it and compute four values, each in XML tags:\n",
    "        \n",
    "         + Does this web page contain a single press release, not a listing of press releases? If so\n",
    "           return <contains_PR>True</contains_PR> otherwise return <contains_PR>False</contains_PR>.\n",
    "         + If this page does contain a single press release then when was it published? Return your\n",
    "           result in <publication_date></publication_date> tags.\n",
    "         + If this page does contain a single press release then does it describe financial information\n",
    "           like quarterly results? If so return <is_financial>True</is_financial>, otherwise\n",
    "           return <is_financial>True</is_financial>.\n",
    "         + If this page does contain a single press release then return the title (in <title></title> tags)\n",
    "           and a 3-5 sentence abstract (in <abstract></abstract> tags).\n",
    "        \"\"\")\n",
    "    try:\n",
    "        result = run_model(prompt)\n",
    "        tags = u.extract_multiple_tags(result)\n",
    "        return tags\n",
    "    except ValueError as ex:\n",
    "        print(ex)\n",
    "        return {}"
   ]
  },
  {
   "cell_type": "code",
   "execution_count": null,
   "id": "8369f640-9449-4f70-820b-246f45bcf3dd",
   "metadata": {
    "tags": []
   },
   "outputs": [],
   "source": [
    "@u.test_wrapper(globals())\n",
    "def generate_list_of_in_situ_PRs(company_name: str, company_url: str) -> List[dict]:\n",
    "    return WSAG(\n",
    "        web_search_query=f\"press releases site:{u.extract_TLD_from_URL(company_url)}\",\n",
    "        num_web_search_results=20, web_search_timeout=20,\n",
    "        search_result_mapper=partial(in_situ_PR_mapper,\n",
    "                                     company_name=company_name),\n",
    "        search_result_downloader=search_result_downloader,\n",
    "        reducer=partial(press_release_reducer,\n",
    "                        is_in_situ=True))\n"
   ]
  },
  {
   "cell_type": "code",
   "execution_count": null,
   "id": "4651e028-de7c-4b0e-9a62-6c4df50f286c",
   "metadata": {
    "tags": []
   },
   "outputs": [],
   "source": [
    "test_generate_list_of_in_situ_PRs(\"Beam Therapeutics\", \"https://beamtx.com\")"
   ]
  },
  {
   "cell_type": "code",
   "execution_count": null,
   "id": "9ece9d6b-ceef-4d3d-ba5b-fe99d44de86d",
   "metadata": {
    "tags": []
   },
   "outputs": [],
   "source": [
    "@u.test_wrapper(globals())\n",
    "def generate_press_releases_html(company_name: str, company_url: str) -> str:\n",
    "    \"\"\"\n",
    "    Use a web search to find individual pages for press releases and then use the LLM\n",
    "    to determine if the downloaded page is actually a PR (and not, e.g. a list of PRs).\n",
    "    \"\"\"\n",
    "    print(f\"++++++ generate_press_releases_html {company_name} {company_url}\")\n",
    " \n",
    "    press_releases = remove_extraneous_PRs(\n",
    "                            generate_list_of_in_situ_PRs(company_name, company_url))\n",
    "    if len(press_releases) == 0:\n",
    "        press_releases = remove_extraneous_PRs(\n",
    "                            generate_list_of_externally_hosted_PRs(company_name, company_url))\n",
    "\n",
    "    for pr in press_releases:\n",
    "        for key in [\"title\", \"abstract\"]:\n",
    "            if key in pr:\n",
    "                pr[key] = u.escape_HTML_text(pr[key])\n",
    "\n",
    "    if press_releases:\n",
    "        template = u.strip_multiline_whitespace(\"\"\"\\\n",
    "            <ul>\n",
    "              {% for pr in press_releases %}\n",
    "                  <li> {{pr.publication_date or \"\"}} <a href=\"{{ pr.URL }}\">{{ pr.title }}</a><p/>\n",
    "                       {{ pr.abstract or \"\" }}\n",
    "              {% endfor %}\n",
    "            </ul>\n",
    "            \"\"\")\n",
    "        html = jenv.from_string(template).render(press_releases=press_releases)\n",
    "    else:\n",
    "        html = \"No recent press releases were found.\"\n",
    "    return html"
   ]
  },
  {
   "cell_type": "code",
   "execution_count": null,
   "id": "935e26a7-b2be-4451-a77c-7d19847e41b6",
   "metadata": {
    "tags": []
   },
   "outputs": [],
   "source": [
    "test_generate_press_releases_html(\"Beam Therapeutics\", \"https://beamtx.com\")"
   ]
  },
  {
   "cell_type": "markdown",
   "id": "2f6cdf4e-2916-4d95-a35e-29bf1667af4e",
   "metadata": {
    "tags": []
   },
   "source": [
    "## Scientific posters"
   ]
  },
  {
   "cell_type": "code",
   "execution_count": null,
   "id": "3608d9ac-a70f-416a-a803-e103bb11f3f5",
   "metadata": {
    "tags": []
   },
   "outputs": [],
   "source": [
    "def scientific_poster_mapper(search_result: dict,\n",
    "                             text_contents: str,\n",
    "                             company_name: str) -> Optional[dict]:\n",
    "    if text_contents is not None:\n",
    "        prompt = u.strip_multiline_whitespace(f\"\"\"\\\n",
    "            You are given the following contents of a PDF file:\n",
    "\n",
    "            <PDF_contents>\n",
    "            {text_contents}\n",
    "            </PDF_contents>\n",
    "\n",
    "            This PDF file may contain a scientific poster presentation.\n",
    "            \n",
    "            Your first task is to determine if it _does_ contain a\n",
    "            scientific poster presentation. If it does not, you should\n",
    "            return <not_a_poster></not_a_poster>.\n",
    "            \n",
    "            If it does contain a scientific poster then your second task\n",
    "            is to return some metadata about the poster: return the title of\n",
    "            the poster in <title></title> tags and the entire citation in\n",
    "            <citation></citation> tags. Also, return a 3-5 sentence summary\n",
    "            of the key points of the poster in <abstract></abstract> tags.\n",
    "            \"\"\")\n",
    "        resp = run_model(prompt)\n",
    "        tags = u.extract_multiple_tags(resp)\n",
    "        if not tags:\n",
    "            result = None\n",
    "        elif \"not_a_poster\" in tags:\n",
    "            result = None\n",
    "        else:\n",
    "            result = {\"URL\": search_result[\"link\"], **tags}\n",
    "    else:\n",
    "        result = None\n",
    "    return result"
   ]
  },
  {
   "cell_type": "code",
   "execution_count": null,
   "id": "ebfafe80-f766-40d9-841d-10dea0507f88",
   "metadata": {
    "tags": []
   },
   "outputs": [],
   "source": [
    "@u.test_wrapper(globals())\n",
    "def generate_posters_html(company_name: str, company_url: str) -> str:\n",
    "    \"\"\"\n",
    "    Get single-page PDFs from the company's web site and then use the LLM\n",
    "    to parse the title etc out of the PDF.\n",
    "    \"\"\"\n",
    "\n",
    "    def search_result_filter(idx: int, search_result: dict) -> Tuple[bool, str]:\n",
    "        contents = search_result_downloader(search_result=search_result)\n",
    "        selected = contents is not None\n",
    "        return selected, contents\n",
    "\n",
    "    def reducer(map_results: Iterable[Union[str, dict]]) -> str:\n",
    "        posters = filter(None, map_results) # remove Nones\n",
    "        posters = [p for p in posters if {\"URL\", \"title\"} <= p.keys() and p[\"title\"]]\n",
    "        for p in posters:\n",
    "            p[\"citationOrTitle\"] = p.get(\"citation\", \"\") or p.get(\"title\", \"\")\n",
    "        if posters:\n",
    "            template = \"\"\"\\\n",
    "             <ul>\n",
    "              {% for poster in posters %}\n",
    "                  <li> <a href=\"{{ poster.URL }}\">{{ poster.citationOrTitle }}</a>\n",
    "                     <p/>{{poster.abstract}}\n",
    "              {% endfor %}\n",
    "              </ul>\n",
    "            \"\"\"\n",
    "            html = jenv.from_string(template).render(posters=posters)\n",
    "        else:\n",
    "            html = \"No recent posters were found.\"\n",
    "        return html        \n",
    "\n",
    "    return WSAG(\n",
    "        web_search_query=f\"poster presentation site:{u.extract_site_from_URL(company_url)}\",\n",
    "        num_web_search_results=20, web_search_timeout=20,\n",
    "        search_result_mapper=partial(scientific_poster_mapper,\n",
    "                                     company_name=company_name),\n",
    "        search_result_downloader=partial(search_result_downloader,\n",
    "                                         allowable_mime_types = [\"application/pdf\"],\n",
    "                                         allow_only_single_page_PDFs=True),\n",
    "        reducer=reducer)"
   ]
  },
  {
   "cell_type": "code",
   "execution_count": null,
   "id": "aa8476e4-3bd0-4fc2-9e25-e78d51f9991a",
   "metadata": {
    "tags": []
   },
   "outputs": [],
   "source": [
    "test_generate_posters_html(\"Incyte\", \"https://incyte.com\")"
   ]
  },
  {
   "cell_type": "markdown",
   "id": "f307d079-43ca-4f82-a128-52ad70b5df07",
   "metadata": {
    "tags": []
   },
   "source": [
    "## 10K report"
   ]
  },
  {
   "cell_type": "code",
   "execution_count": null,
   "id": "2e22ea65-987d-4dbf-a5be-1a8b0200620e",
   "metadata": {
    "tags": []
   },
   "outputs": [],
   "source": [
    "def tenk_report_html(company_name: str) -> str:\n",
    "    \"\"\"\n",
    "    Return an HTML string that describes this company's 10K report.\n",
    "    \"\"\"\n",
    "    print(f\"+++ 10k_report_html {company_name}\")\n",
    "    response_json = u.google_search(f\"10K report {company_name} site:sec.gov\")\n",
    "    try:\n",
    "        tenk_URL = response_json[\"organic_results\"][0][\"link\"]\n",
    "    except KeyError as ex:\n",
    "        tenk_URL = None\n",
    "        print(ex)\n",
    "\n",
    "    if tenk_URL:\n",
    "        return f\"\"\"\\\n",
    "        Click <a href=\"{tenk_URL}\">here</a> for the PDF.\n",
    "        <hr/>\n",
    "        \"\"\"\n",
    "    else:\n",
    "        return f\"{company_name} does not have a 10K report\""
   ]
  },
  {
   "cell_type": "markdown",
   "id": "c8a1815c-9868-4975-9b03-ddaeb05c53f7",
   "metadata": {
    "tags": []
   },
   "source": [
    "## Generate the summary"
   ]
  },
  {
   "cell_type": "code",
   "execution_count": null,
   "id": "096d844e-459c-4aff-9b84-a8f53831488e",
   "metadata": {
    "tags": []
   },
   "outputs": [],
   "source": [
    "html_template = u.strip_multiline_whitespace(\"\"\"\\\n",
    "    <html>\n",
    "      <head>\n",
    "          <title>Summary of {{ company_name }}</title>\n",
    "      </head>\n",
    "      <body>\n",
    "          <h1>Summary of {{ company_name }} <small>[generated in {{ elapsed_time }} minutes]</small></h1>\n",
    "          <h3>Company Summary</h3>\n",
    "          <p>{{ executive_summary }}<p/>\n",
    "          {% if is_public %}\n",
    "          {{ company_name }} is a public company, with stock ticker {{ ticker }}.\n",
    "          {% else %}\n",
    "          {{ company_name }} is a private company.\n",
    "          {% endif %}\n",
    "    \n",
    "          <h3>Management Team</h3>\n",
    "          {{ leadership_team }}\n",
    "          \n",
    "          <h3>Press Releases (in approx. last year)</h3>\n",
    "          {{ press_releases }}\n",
    "          \n",
    "          <h3>Posters</h3>\n",
    "          {{ posters }}\n",
    "          \n",
    "          <h3>Most recent 10K Report</h3>\n",
    "          {{ten_k_report}}\n",
    "      </body>\n",
    "    </html>\n",
    "    \"\"\")\n",
    "is_public, ticker = is_publicly_traded(company_name, company_URL)\n",
    "kwargs = dict(\n",
    "    is_public=is_public,\n",
    "    ticker=ticker,\n",
    "    company_name=company_name.strip(),\n",
    "    executive_summary=generate_company_summary_html(company_name, company_URL).strip(),\n",
    "    leadership_team=generate_leadership_team_html(company_name, company_URL).strip(),\n",
    "    press_releases=generate_press_releases_html(company_name, company_URL).strip(),\n",
    "    posters=generate_posters_html(company_name, company_URL).strip(),\n",
    "    ten_k_report=tenk_report_html(company_name))\n",
    "kwargs[\"elapsed_time\"] = f\"{(time.time() - start_time)/60:.1f}\"\n",
    "html = jenv.from_string(html_template).render(**kwargs)\n",
    "summaries_dir = Path.cwd() / \"summaries\"\n",
    "summaries_dir.mkdir(parents=False, exist_ok=True)\n",
    "this_summary = summaries_dir / f\"{company_name.replace(' ', '-')}-summary.html\"\n",
    "this_summary.write_text(html)\n",
    "print(f\"Summary written to {this_summary}\")"
   ]
  },
  {
   "cell_type": "code",
   "execution_count": null,
   "id": "7a91e858-7586-4a85-8df9-ab32f686d6c6",
   "metadata": {
    "tags": []
   },
   "outputs": [],
   "source": [
    "display(HTML(html))"
   ]
  },
  {
   "cell_type": "markdown",
   "id": "24852a6e-94bb-4d8a-9666-091c55dfb842",
   "metadata": {},
   "source": [
    "## Test Harness"
   ]
  },
  {
   "cell_type": "code",
   "execution_count": null,
   "id": "d7c26a42-b954-4d4d-af0f-58ce29559b9b",
   "metadata": {
    "tags": []
   },
   "outputs": [],
   "source": [
    "def show_results(results: List[dict]):\n",
    "    template = \"\"\"\\\n",
    "    <table>\n",
    "      <tbody>\n",
    "        <tr><th>URL</th><th>name</th><th></th></tr>\n",
    "        {% for result in results %}\n",
    "          <tr>\n",
    "            <td>{{ result.URL }}</td>\n",
    "            <td>{{ result.name }}</td>\n",
    "            <td>{{ result.html }}</td>\n",
    "          </tr>\n",
    "        {% endfor %}\n",
    "      </tbody>\n",
    "    </table>\n",
    "    \"\"\"\n",
    "    html_str = jenv.from_string(template).render(results=results)\n",
    "    (Path().cwd() / \"test-harness-results.html\").write_text(html_str)\n",
    "    return html_str\n",
    "\n",
    "def test_harness(generator_fn: Callable[Tuple[str, str], str],\n",
    "                 company_URLs: Iterable[str]):\n",
    "    \"\"\"\n",
    "    This is useful when doing prompt engineering to see what effect a given\n",
    "    change has across a set of companies, rather than just testing on\n",
    "    one company.\n",
    "    \"\"\"\n",
    "    if enable_test_harness:\n",
    "        results = []\n",
    "        for company_URL in company_URLs:\n",
    "            company_name = company_name_from_URL(company_URL)\n",
    "            html = generator_fn(company_name, company_URL)\n",
    "            print(f\"{company_URL} {company_name} -> <<{html}>>\")\n",
    "            results.append(dict(URL=company_URL, name=company_name, html=html))\n",
    "            # Dump provisional results to disc:\n",
    "            html_str = show_results(results)\n",
    "        return HTML(html_str)\n",
    "    else:\n",
    "        return None"
   ]
  },
  {
   "cell_type": "code",
   "execution_count": null,
   "id": "80609816-765a-4dde-84ec-69c83ade3fd8",
   "metadata": {
    "tags": []
   },
   "outputs": [],
   "source": [
    "# test_harness(company_name_from_URL_as_html, company_URLs)\n",
    "test_harness(generate_company_summary_html, company_URLs)\n",
    "# test_harness(generate_leadership_team_html, company_URLs)\n",
    "# test_harness(generate_press_releases_html, company_URLs)\n",
    "# test_harness(generate_posters_html, company_URLs)"
   ]
  }
 ],
 "metadata": {
  "availableInstances": [
   {
    "_defaultOrder": 0,
    "_isFastLaunch": true,
    "category": "General purpose",
    "gpuNum": 0,
    "hideHardwareSpecs": false,
    "memoryGiB": 4,
    "name": "ml.t3.medium",
    "vcpuNum": 2
   },
   {
    "_defaultOrder": 1,
    "_isFastLaunch": false,
    "category": "General purpose",
    "gpuNum": 0,
    "hideHardwareSpecs": false,
    "memoryGiB": 8,
    "name": "ml.t3.large",
    "vcpuNum": 2
   },
   {
    "_defaultOrder": 2,
    "_isFastLaunch": false,
    "category": "General purpose",
    "gpuNum": 0,
    "hideHardwareSpecs": false,
    "memoryGiB": 16,
    "name": "ml.t3.xlarge",
    "vcpuNum": 4
   },
   {
    "_defaultOrder": 3,
    "_isFastLaunch": false,
    "category": "General purpose",
    "gpuNum": 0,
    "hideHardwareSpecs": false,
    "memoryGiB": 32,
    "name": "ml.t3.2xlarge",
    "vcpuNum": 8
   },
   {
    "_defaultOrder": 4,
    "_isFastLaunch": true,
    "category": "General purpose",
    "gpuNum": 0,
    "hideHardwareSpecs": false,
    "memoryGiB": 8,
    "name": "ml.m5.large",
    "vcpuNum": 2
   },
   {
    "_defaultOrder": 5,
    "_isFastLaunch": false,
    "category": "General purpose",
    "gpuNum": 0,
    "hideHardwareSpecs": false,
    "memoryGiB": 16,
    "name": "ml.m5.xlarge",
    "vcpuNum": 4
   },
   {
    "_defaultOrder": 6,
    "_isFastLaunch": false,
    "category": "General purpose",
    "gpuNum": 0,
    "hideHardwareSpecs": false,
    "memoryGiB": 32,
    "name": "ml.m5.2xlarge",
    "vcpuNum": 8
   },
   {
    "_defaultOrder": 7,
    "_isFastLaunch": false,
    "category": "General purpose",
    "gpuNum": 0,
    "hideHardwareSpecs": false,
    "memoryGiB": 64,
    "name": "ml.m5.4xlarge",
    "vcpuNum": 16
   },
   {
    "_defaultOrder": 8,
    "_isFastLaunch": false,
    "category": "General purpose",
    "gpuNum": 0,
    "hideHardwareSpecs": false,
    "memoryGiB": 128,
    "name": "ml.m5.8xlarge",
    "vcpuNum": 32
   },
   {
    "_defaultOrder": 9,
    "_isFastLaunch": false,
    "category": "General purpose",
    "gpuNum": 0,
    "hideHardwareSpecs": false,
    "memoryGiB": 192,
    "name": "ml.m5.12xlarge",
    "vcpuNum": 48
   },
   {
    "_defaultOrder": 10,
    "_isFastLaunch": false,
    "category": "General purpose",
    "gpuNum": 0,
    "hideHardwareSpecs": false,
    "memoryGiB": 256,
    "name": "ml.m5.16xlarge",
    "vcpuNum": 64
   },
   {
    "_defaultOrder": 11,
    "_isFastLaunch": false,
    "category": "General purpose",
    "gpuNum": 0,
    "hideHardwareSpecs": false,
    "memoryGiB": 384,
    "name": "ml.m5.24xlarge",
    "vcpuNum": 96
   },
   {
    "_defaultOrder": 12,
    "_isFastLaunch": false,
    "category": "General purpose",
    "gpuNum": 0,
    "hideHardwareSpecs": false,
    "memoryGiB": 8,
    "name": "ml.m5d.large",
    "vcpuNum": 2
   },
   {
    "_defaultOrder": 13,
    "_isFastLaunch": false,
    "category": "General purpose",
    "gpuNum": 0,
    "hideHardwareSpecs": false,
    "memoryGiB": 16,
    "name": "ml.m5d.xlarge",
    "vcpuNum": 4
   },
   {
    "_defaultOrder": 14,
    "_isFastLaunch": false,
    "category": "General purpose",
    "gpuNum": 0,
    "hideHardwareSpecs": false,
    "memoryGiB": 32,
    "name": "ml.m5d.2xlarge",
    "vcpuNum": 8
   },
   {
    "_defaultOrder": 15,
    "_isFastLaunch": false,
    "category": "General purpose",
    "gpuNum": 0,
    "hideHardwareSpecs": false,
    "memoryGiB": 64,
    "name": "ml.m5d.4xlarge",
    "vcpuNum": 16
   },
   {
    "_defaultOrder": 16,
    "_isFastLaunch": false,
    "category": "General purpose",
    "gpuNum": 0,
    "hideHardwareSpecs": false,
    "memoryGiB": 128,
    "name": "ml.m5d.8xlarge",
    "vcpuNum": 32
   },
   {
    "_defaultOrder": 17,
    "_isFastLaunch": false,
    "category": "General purpose",
    "gpuNum": 0,
    "hideHardwareSpecs": false,
    "memoryGiB": 192,
    "name": "ml.m5d.12xlarge",
    "vcpuNum": 48
   },
   {
    "_defaultOrder": 18,
    "_isFastLaunch": false,
    "category": "General purpose",
    "gpuNum": 0,
    "hideHardwareSpecs": false,
    "memoryGiB": 256,
    "name": "ml.m5d.16xlarge",
    "vcpuNum": 64
   },
   {
    "_defaultOrder": 19,
    "_isFastLaunch": false,
    "category": "General purpose",
    "gpuNum": 0,
    "hideHardwareSpecs": false,
    "memoryGiB": 384,
    "name": "ml.m5d.24xlarge",
    "vcpuNum": 96
   },
   {
    "_defaultOrder": 20,
    "_isFastLaunch": false,
    "category": "General purpose",
    "gpuNum": 0,
    "hideHardwareSpecs": true,
    "memoryGiB": 0,
    "name": "ml.geospatial.interactive",
    "supportedImageNames": [
     "sagemaker-geospatial-v1-0"
    ],
    "vcpuNum": 0
   },
   {
    "_defaultOrder": 21,
    "_isFastLaunch": true,
    "category": "Compute optimized",
    "gpuNum": 0,
    "hideHardwareSpecs": false,
    "memoryGiB": 4,
    "name": "ml.c5.large",
    "vcpuNum": 2
   },
   {
    "_defaultOrder": 22,
    "_isFastLaunch": false,
    "category": "Compute optimized",
    "gpuNum": 0,
    "hideHardwareSpecs": false,
    "memoryGiB": 8,
    "name": "ml.c5.xlarge",
    "vcpuNum": 4
   },
   {
    "_defaultOrder": 23,
    "_isFastLaunch": false,
    "category": "Compute optimized",
    "gpuNum": 0,
    "hideHardwareSpecs": false,
    "memoryGiB": 16,
    "name": "ml.c5.2xlarge",
    "vcpuNum": 8
   },
   {
    "_defaultOrder": 24,
    "_isFastLaunch": false,
    "category": "Compute optimized",
    "gpuNum": 0,
    "hideHardwareSpecs": false,
    "memoryGiB": 32,
    "name": "ml.c5.4xlarge",
    "vcpuNum": 16
   },
   {
    "_defaultOrder": 25,
    "_isFastLaunch": false,
    "category": "Compute optimized",
    "gpuNum": 0,
    "hideHardwareSpecs": false,
    "memoryGiB": 72,
    "name": "ml.c5.9xlarge",
    "vcpuNum": 36
   },
   {
    "_defaultOrder": 26,
    "_isFastLaunch": false,
    "category": "Compute optimized",
    "gpuNum": 0,
    "hideHardwareSpecs": false,
    "memoryGiB": 96,
    "name": "ml.c5.12xlarge",
    "vcpuNum": 48
   },
   {
    "_defaultOrder": 27,
    "_isFastLaunch": false,
    "category": "Compute optimized",
    "gpuNum": 0,
    "hideHardwareSpecs": false,
    "memoryGiB": 144,
    "name": "ml.c5.18xlarge",
    "vcpuNum": 72
   },
   {
    "_defaultOrder": 28,
    "_isFastLaunch": false,
    "category": "Compute optimized",
    "gpuNum": 0,
    "hideHardwareSpecs": false,
    "memoryGiB": 192,
    "name": "ml.c5.24xlarge",
    "vcpuNum": 96
   },
   {
    "_defaultOrder": 29,
    "_isFastLaunch": true,
    "category": "Accelerated computing",
    "gpuNum": 1,
    "hideHardwareSpecs": false,
    "memoryGiB": 16,
    "name": "ml.g4dn.xlarge",
    "vcpuNum": 4
   },
   {
    "_defaultOrder": 30,
    "_isFastLaunch": false,
    "category": "Accelerated computing",
    "gpuNum": 1,
    "hideHardwareSpecs": false,
    "memoryGiB": 32,
    "name": "ml.g4dn.2xlarge",
    "vcpuNum": 8
   },
   {
    "_defaultOrder": 31,
    "_isFastLaunch": false,
    "category": "Accelerated computing",
    "gpuNum": 1,
    "hideHardwareSpecs": false,
    "memoryGiB": 64,
    "name": "ml.g4dn.4xlarge",
    "vcpuNum": 16
   },
   {
    "_defaultOrder": 32,
    "_isFastLaunch": false,
    "category": "Accelerated computing",
    "gpuNum": 1,
    "hideHardwareSpecs": false,
    "memoryGiB": 128,
    "name": "ml.g4dn.8xlarge",
    "vcpuNum": 32
   },
   {
    "_defaultOrder": 33,
    "_isFastLaunch": false,
    "category": "Accelerated computing",
    "gpuNum": 4,
    "hideHardwareSpecs": false,
    "memoryGiB": 192,
    "name": "ml.g4dn.12xlarge",
    "vcpuNum": 48
   },
   {
    "_defaultOrder": 34,
    "_isFastLaunch": false,
    "category": "Accelerated computing",
    "gpuNum": 1,
    "hideHardwareSpecs": false,
    "memoryGiB": 256,
    "name": "ml.g4dn.16xlarge",
    "vcpuNum": 64
   },
   {
    "_defaultOrder": 35,
    "_isFastLaunch": false,
    "category": "Accelerated computing",
    "gpuNum": 1,
    "hideHardwareSpecs": false,
    "memoryGiB": 61,
    "name": "ml.p3.2xlarge",
    "vcpuNum": 8
   },
   {
    "_defaultOrder": 36,
    "_isFastLaunch": false,
    "category": "Accelerated computing",
    "gpuNum": 4,
    "hideHardwareSpecs": false,
    "memoryGiB": 244,
    "name": "ml.p3.8xlarge",
    "vcpuNum": 32
   },
   {
    "_defaultOrder": 37,
    "_isFastLaunch": false,
    "category": "Accelerated computing",
    "gpuNum": 8,
    "hideHardwareSpecs": false,
    "memoryGiB": 488,
    "name": "ml.p3.16xlarge",
    "vcpuNum": 64
   },
   {
    "_defaultOrder": 38,
    "_isFastLaunch": false,
    "category": "Accelerated computing",
    "gpuNum": 8,
    "hideHardwareSpecs": false,
    "memoryGiB": 768,
    "name": "ml.p3dn.24xlarge",
    "vcpuNum": 96
   },
   {
    "_defaultOrder": 39,
    "_isFastLaunch": false,
    "category": "Memory Optimized",
    "gpuNum": 0,
    "hideHardwareSpecs": false,
    "memoryGiB": 16,
    "name": "ml.r5.large",
    "vcpuNum": 2
   },
   {
    "_defaultOrder": 40,
    "_isFastLaunch": false,
    "category": "Memory Optimized",
    "gpuNum": 0,
    "hideHardwareSpecs": false,
    "memoryGiB": 32,
    "name": "ml.r5.xlarge",
    "vcpuNum": 4
   },
   {
    "_defaultOrder": 41,
    "_isFastLaunch": false,
    "category": "Memory Optimized",
    "gpuNum": 0,
    "hideHardwareSpecs": false,
    "memoryGiB": 64,
    "name": "ml.r5.2xlarge",
    "vcpuNum": 8
   },
   {
    "_defaultOrder": 42,
    "_isFastLaunch": false,
    "category": "Memory Optimized",
    "gpuNum": 0,
    "hideHardwareSpecs": false,
    "memoryGiB": 128,
    "name": "ml.r5.4xlarge",
    "vcpuNum": 16
   },
   {
    "_defaultOrder": 43,
    "_isFastLaunch": false,
    "category": "Memory Optimized",
    "gpuNum": 0,
    "hideHardwareSpecs": false,
    "memoryGiB": 256,
    "name": "ml.r5.8xlarge",
    "vcpuNum": 32
   },
   {
    "_defaultOrder": 44,
    "_isFastLaunch": false,
    "category": "Memory Optimized",
    "gpuNum": 0,
    "hideHardwareSpecs": false,
    "memoryGiB": 384,
    "name": "ml.r5.12xlarge",
    "vcpuNum": 48
   },
   {
    "_defaultOrder": 45,
    "_isFastLaunch": false,
    "category": "Memory Optimized",
    "gpuNum": 0,
    "hideHardwareSpecs": false,
    "memoryGiB": 512,
    "name": "ml.r5.16xlarge",
    "vcpuNum": 64
   },
   {
    "_defaultOrder": 46,
    "_isFastLaunch": false,
    "category": "Memory Optimized",
    "gpuNum": 0,
    "hideHardwareSpecs": false,
    "memoryGiB": 768,
    "name": "ml.r5.24xlarge",
    "vcpuNum": 96
   },
   {
    "_defaultOrder": 47,
    "_isFastLaunch": false,
    "category": "Accelerated computing",
    "gpuNum": 1,
    "hideHardwareSpecs": false,
    "memoryGiB": 16,
    "name": "ml.g5.xlarge",
    "vcpuNum": 4
   },
   {
    "_defaultOrder": 48,
    "_isFastLaunch": false,
    "category": "Accelerated computing",
    "gpuNum": 1,
    "hideHardwareSpecs": false,
    "memoryGiB": 32,
    "name": "ml.g5.2xlarge",
    "vcpuNum": 8
   },
   {
    "_defaultOrder": 49,
    "_isFastLaunch": false,
    "category": "Accelerated computing",
    "gpuNum": 1,
    "hideHardwareSpecs": false,
    "memoryGiB": 64,
    "name": "ml.g5.4xlarge",
    "vcpuNum": 16
   },
   {
    "_defaultOrder": 50,
    "_isFastLaunch": false,
    "category": "Accelerated computing",
    "gpuNum": 1,
    "hideHardwareSpecs": false,
    "memoryGiB": 128,
    "name": "ml.g5.8xlarge",
    "vcpuNum": 32
   },
   {
    "_defaultOrder": 51,
    "_isFastLaunch": false,
    "category": "Accelerated computing",
    "gpuNum": 1,
    "hideHardwareSpecs": false,
    "memoryGiB": 256,
    "name": "ml.g5.16xlarge",
    "vcpuNum": 64
   },
   {
    "_defaultOrder": 52,
    "_isFastLaunch": false,
    "category": "Accelerated computing",
    "gpuNum": 4,
    "hideHardwareSpecs": false,
    "memoryGiB": 192,
    "name": "ml.g5.12xlarge",
    "vcpuNum": 48
   },
   {
    "_defaultOrder": 53,
    "_isFastLaunch": false,
    "category": "Accelerated computing",
    "gpuNum": 4,
    "hideHardwareSpecs": false,
    "memoryGiB": 384,
    "name": "ml.g5.24xlarge",
    "vcpuNum": 96
   },
   {
    "_defaultOrder": 54,
    "_isFastLaunch": false,
    "category": "Accelerated computing",
    "gpuNum": 8,
    "hideHardwareSpecs": false,
    "memoryGiB": 768,
    "name": "ml.g5.48xlarge",
    "vcpuNum": 192
   },
   {
    "_defaultOrder": 55,
    "_isFastLaunch": false,
    "category": "Accelerated computing",
    "gpuNum": 8,
    "hideHardwareSpecs": false,
    "memoryGiB": 1152,
    "name": "ml.p4d.24xlarge",
    "vcpuNum": 96
   },
   {
    "_defaultOrder": 56,
    "_isFastLaunch": false,
    "category": "Accelerated computing",
    "gpuNum": 8,
    "hideHardwareSpecs": false,
    "memoryGiB": 1152,
    "name": "ml.p4de.24xlarge",
    "vcpuNum": 96
   }
  ],
  "instance_type": "ml.t3.medium",
  "kernelspec": {
   "display_name": "conda_pytorch_p310",
   "language": "python",
   "name": "conda_pytorch_p310"
  },
  "language_info": {
   "codemirror_mode": {
    "name": "ipython",
    "version": 3
   },
   "file_extension": ".py",
   "mimetype": "text/x-python",
   "name": "python",
   "nbconvert_exporter": "python",
   "pygments_lexer": "ipython3",
   "version": "3.10.13"
  }
 },
 "nbformat": 4,
 "nbformat_minor": 5
}
