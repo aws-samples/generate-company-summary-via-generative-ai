{
 "cells": [
  {
   "cell_type": "markdown",
   "id": "0bf6047d-0754-4211-992f-751112533a3c",
   "metadata": {
    "tags": []
   },
   "source": [
    "# Parameters"
   ]
  },
  {
   "cell_type": "code",
   "execution_count": 2,
   "id": "113a6e01-4360-4798-b26a-c0f3b59de7aa",
   "metadata": {
    "tags": [
     "parameters"
    ]
   },
   "outputs": [],
   "source": [
    "# These are used by papermill; see generate-multiple-summaries.py\n",
    "company_URL = \"https://www.agios.com/\"\n",
    "enable_test_harness = False # disable test harness when generating summaries"
   ]
  },
  {
   "cell_type": "code",
   "execution_count": 3,
   "id": "0bec026e-9bdd-4b9d-b489-4745781ce1b0",
   "metadata": {
    "tags": []
   },
   "outputs": [
    {
     "name": "stdout",
     "output_type": "stream",
     "text": [
      "env: SERPAPI_API_KEY=...\n",
      "env: AWS_ACCESS_KEY_ID=...\n",
      "env: AWS_SECRET_ACCESS_KEY=...\n",
      "env: AWS_SESSION_TOKEN=...\n"
     ]
    }
   ],
   "source": [
    "%env SERPAPI_API_KEY=...\n",
    "%env AWS_ACCESS_KEY_ID=...\n",
    "%env AWS_SECRET_ACCESS_KEY=...\n",
    "%env AWS_SESSION_TOKEN=..."
   ]
  },
  {
   "cell_type": "code",
   "execution_count": 73,
   "id": "1ddcb192-6a1f-44a0-94e5-75f6e9b8aefe",
   "metadata": {},
   "outputs": [],
   "source": [
    "BUCKET_NAME=\"sgh-misc\"  # change this to a bucket in your account"
   ]
  },
  {
   "cell_type": "code",
   "execution_count": 74,
   "id": "e6eb62c0-94a2-40a1-9b51-6785f8ea99d4",
   "metadata": {
    "tags": []
   },
   "outputs": [],
   "source": [
    "import json\n",
    "from typing import Callable, List, Tuple, Iterable\n",
    "import time\n",
    "from pathlib import Path\n",
    "from urllib.parse import urlparse\n",
    "import importlib\n",
    "import datetime\n",
    "from functools import lru_cache\n",
    "\n",
    "from urllib3.exceptions import MaxRetryError \n",
    "import boto3, botocore\n",
    "from IPython.display import HTML, display\n",
    "import jinja2\n",
    "import dateparser\n",
    "from langchain.llms import Bedrock\n",
    "\n",
    "import utilities as u"
   ]
  },
  {
   "cell_type": "code",
   "execution_count": 75,
   "id": "10d295f6-425e-45cd-aac9-e4b547673021",
   "metadata": {
    "tags": []
   },
   "outputs": [
    {
     "data": {
      "text/plain": [
       "<module 'utilities' from '/Users/simongh/projects/pfizer-opportunity-identification/utilities.py'>"
      ]
     },
     "execution_count": 75,
     "metadata": {},
     "output_type": "execute_result"
    }
   ],
   "source": [
    "importlib.reload(u)"
   ]
  },
  {
   "cell_type": "code",
   "execution_count": 76,
   "id": "ecc6fdf7-e76e-425a-b30b-75a08a0e8b03",
   "metadata": {
    "tags": []
   },
   "outputs": [],
   "source": [
    "start_time = time.time()"
   ]
  },
  {
   "cell_type": "code",
   "execution_count": 77,
   "id": "972e7be5-d2aa-4693-a8d4-fd5d5e233920",
   "metadata": {
    "tags": []
   },
   "outputs": [],
   "source": [
    "jenv = jinja2.Environment(trim_blocks=True, lstrip_blocks=True)\n",
    "bedrock_runtime = boto3.client(\"bedrock-runtime\")\n",
    "bedrock = boto3.client(\"bedrock\")\n",
    "s3 = boto3.client(\"s3\")\n",
    "textract = boto3.client('textract')\n",
    "# model_id=\"anthropic.claude-v2:1\"\n",
    "model_id=\"anthropic.claude-3-sonnet-20240229-v1:0\""
   ]
  },
  {
   "cell_type": "code",
   "execution_count": 78,
   "id": "a1c75fc7-8c7b-40e1-a764-5ab0b1461429",
   "metadata": {},
   "outputs": [
    {
     "ename": "ClientError",
     "evalue": "An error occurred (ExpiredTokenException) when calling the ListFoundationModels operation: The security token included in the request is expired",
     "output_type": "error",
     "traceback": [
      "\u001b[0;31m---------------------------------------------------------------------------\u001b[0m",
      "\u001b[0;31mClientError\u001b[0m                               Traceback (most recent call last)",
      "Cell \u001b[0;32mIn[78], line 1\u001b[0m\n\u001b[0;32m----> 1\u001b[0m [x[\u001b[38;5;124m'\u001b[39m\u001b[38;5;124mmodelId\u001b[39m\u001b[38;5;124m'\u001b[39m] \u001b[38;5;28;01mfor\u001b[39;00m x \u001b[38;5;129;01min\u001b[39;00m \u001b[43mbedrock\u001b[49m\u001b[38;5;241;43m.\u001b[39;49m\u001b[43mlist_foundation_models\u001b[49m\u001b[43m(\u001b[49m\u001b[43m)\u001b[49m[\u001b[38;5;124m'\u001b[39m\u001b[38;5;124mmodelSummaries\u001b[39m\u001b[38;5;124m'\u001b[39m]]\n",
      "File \u001b[0;32m~/Library/Caches/pypoetry/virtualenvs/generate-company-summary-U7OOOFGG-py3.10/lib/python3.10/site-packages/botocore/client.py:553\u001b[0m, in \u001b[0;36mClientCreator._create_api_method.<locals>._api_call\u001b[0;34m(self, *args, **kwargs)\u001b[0m\n\u001b[1;32m    549\u001b[0m     \u001b[38;5;28;01mraise\u001b[39;00m \u001b[38;5;167;01mTypeError\u001b[39;00m(\n\u001b[1;32m    550\u001b[0m         \u001b[38;5;124mf\u001b[39m\u001b[38;5;124m\"\u001b[39m\u001b[38;5;132;01m{\u001b[39;00mpy_operation_name\u001b[38;5;132;01m}\u001b[39;00m\u001b[38;5;124m() only accepts keyword arguments.\u001b[39m\u001b[38;5;124m\"\u001b[39m\n\u001b[1;32m    551\u001b[0m     )\n\u001b[1;32m    552\u001b[0m \u001b[38;5;66;03m# The \"self\" in this scope is referring to the BaseClient.\u001b[39;00m\n\u001b[0;32m--> 553\u001b[0m \u001b[38;5;28;01mreturn\u001b[39;00m \u001b[38;5;28;43mself\u001b[39;49m\u001b[38;5;241;43m.\u001b[39;49m\u001b[43m_make_api_call\u001b[49m\u001b[43m(\u001b[49m\u001b[43moperation_name\u001b[49m\u001b[43m,\u001b[49m\u001b[43m \u001b[49m\u001b[43mkwargs\u001b[49m\u001b[43m)\u001b[49m\n",
      "File \u001b[0;32m~/Library/Caches/pypoetry/virtualenvs/generate-company-summary-U7OOOFGG-py3.10/lib/python3.10/site-packages/botocore/client.py:1009\u001b[0m, in \u001b[0;36mBaseClient._make_api_call\u001b[0;34m(self, operation_name, api_params)\u001b[0m\n\u001b[1;32m   1005\u001b[0m     error_code \u001b[38;5;241m=\u001b[39m error_info\u001b[38;5;241m.\u001b[39mget(\u001b[38;5;124m\"\u001b[39m\u001b[38;5;124mQueryErrorCode\u001b[39m\u001b[38;5;124m\"\u001b[39m) \u001b[38;5;129;01mor\u001b[39;00m error_info\u001b[38;5;241m.\u001b[39mget(\n\u001b[1;32m   1006\u001b[0m         \u001b[38;5;124m\"\u001b[39m\u001b[38;5;124mCode\u001b[39m\u001b[38;5;124m\"\u001b[39m\n\u001b[1;32m   1007\u001b[0m     )\n\u001b[1;32m   1008\u001b[0m     error_class \u001b[38;5;241m=\u001b[39m \u001b[38;5;28mself\u001b[39m\u001b[38;5;241m.\u001b[39mexceptions\u001b[38;5;241m.\u001b[39mfrom_code(error_code)\n\u001b[0;32m-> 1009\u001b[0m     \u001b[38;5;28;01mraise\u001b[39;00m error_class(parsed_response, operation_name)\n\u001b[1;32m   1010\u001b[0m \u001b[38;5;28;01melse\u001b[39;00m:\n\u001b[1;32m   1011\u001b[0m     \u001b[38;5;28;01mreturn\u001b[39;00m parsed_response\n",
      "\u001b[0;31mClientError\u001b[0m: An error occurred (ExpiredTokenException) when calling the ListFoundationModels operation: The security token included in the request is expired"
     ]
    }
   ],
   "source": [
    "[x['modelId'] for x in bedrock.list_foundation_models()['modelSummaries']]"
   ]
  },
  {
   "cell_type": "code",
   "execution_count": 58,
   "id": "b67e170b-7c6e-42ba-aacd-59fffb2473ce",
   "metadata": {
    "tags": []
   },
   "outputs": [],
   "source": [
    "curl_headers = {\n",
    "    \"User-Agent\": \"curl/8.1.2\",\n",
    "    \"Accept\": \"*/*\"\n",
    "}\n",
    "company_URLs = [\n",
    "        \"https://www.agios.com\",\n",
    "        \"https://www.morphosys.com/en\",\n",
    "        \"https://incyte.com\",\n",
    "        \"https://www.protagonist-inc.com\",\n",
    "        \"https://kerostx.com\",\n",
    "        \"https://vaderis.com\",\n",
    "        \"https://hemavant.com\",\n",
    "        \"https://www.intelliatx.com\",\n",
    "        \"https://beamtx.com\",\n",
    "        \"https://www.capstantx.com\",\n",
    "        \"https://renagadetx.com\",\n",
    "        \"https://arbor.bio\"\n",
    "]"
   ]
  },
  {
   "cell_type": "code",
   "execution_count": 59,
   "id": "171e7d74-7748-4363-b25d-d253e392235f",
   "metadata": {
    "tags": []
   },
   "outputs": [],
   "source": [
    "wLLM = u.WrappedBedrock(\n",
    "    model_id=model_id,\n",
    "    client=bedrock_runtime,\n",
    "    model_kwargs={\n",
    "        \"max_tokens_to_sample\": 4096,\n",
    "        \"temperature\": 0.5,\n",
    "        \"top_k\": 250,\n",
    "        \"top_p\": 0.9,\n",
    "        \"stop_sequences\": [\"\\n\\nHuman\"],\n",
    "    })"
   ]
  },
  {
   "cell_type": "code",
   "execution_count": 60,
   "id": "cd4ef5b7-e225-4296-afa2-f7772552a3dd",
   "metadata": {
    "tags": []
   },
   "outputs": [],
   "source": [
    "def company_name_from_URL_as_html(_company_name: str, company_URL: str ) -> str:\n",
    "    \"\"\" company name is ignored, this lets us use the test harness \"\"\"\n",
    "    return company_name_from_URL(company_URL)"
   ]
  },
  {
   "cell_type": "code",
   "execution_count": 61,
   "id": "17a28c54-73cc-43c0-ada3-6eabc4899a09",
   "metadata": {
    "tags": []
   },
   "outputs": [],
   "source": [
    "@lru_cache\n",
    "def company_name_from_URL(company_URL: str) -> str:\n",
    "    \"\"\"\n",
    "    Use the LLM to infer the name of the company from its URL.\n",
    "    \"\"\"\n",
    "    try:\n",
    "        text_contents = u.download_web_page_as_text(company_URL, s3, textract,\n",
    "                                                    BUCKET_NAME, headers=curl_headers)\n",
    "        if not text_contents:\n",
    "            return \"unknown company\"\n",
    "    except (ConnectionError, MaxRetryError) as ex:\n",
    "        print(f\"Failed to download {URL}: {ex}\")\n",
    "        return \"unknown company\"\n",
    "\n",
    "    prompt = f\"\"\"\\\n",
    "You are a researcher at a biopharmaceutical company who has been tasked\n",
    "with determining what the name of a company is. The following is the contents\n",
    "of this company's main web page:\n",
    " \n",
    "<HTML_contents>\n",
    "{text_contents}\n",
    "</HTML_contents>\n",
    "\n",
    "Based on this web page you must determine the name of this company and \n",
    "return it in <company_name></company_name> tags. Always return the full \n",
    "name of the company, for example if there name is \"Foo Therapeutics\" then\n",
    "you should return that, not \"Foo\".\n",
    "\"\"\"\n",
    "    try:\n",
    "        result = wLLM.invoke(prompt)\n",
    "        # print(f\"-------result:\\n{result}\\n-------\")\n",
    "        tags = u.extract_multiple_tags(result)\n",
    "        # print(f\"tags {tags}\")\n",
    "        return tags[\"company_name\"].strip()\n",
    "    except Exception as ex:\n",
    "        print(ex)\n",
    "        return \"unknown company\""
   ]
  },
  {
   "cell_type": "markdown",
   "id": "fb7a5990-0b1a-4d56-a13b-d9d6bb5569ec",
   "metadata": {},
   "source": [
    "# Generate the Company Summary"
   ]
  },
  {
   "cell_type": "code",
   "execution_count": 33,
   "id": "7ef89a0d-41f4-4af1-93cb-a544314bf3d8",
   "metadata": {
    "tags": []
   },
   "outputs": [
    {
     "name": "stdout",
     "output_type": "stream",
     "text": [
      "download_web_page https://www.agios.com/\n"
     ]
    },
    {
     "data": {
      "text/plain": [
       "'Agios'"
      ]
     },
     "execution_count": 33,
     "metadata": {},
     "output_type": "execute_result"
    }
   ],
   "source": [
    "company_name = company_name_from_URL(company_URL)\n",
    "company_name"
   ]
  },
  {
   "cell_type": "markdown",
   "id": "0a1e56a0-2d13-4f58-96a7-1d8d2f726f0f",
   "metadata": {},
   "source": [
    "## Is it a publicly-traded company?"
   ]
  },
  {
   "cell_type": "code",
   "execution_count": 62,
   "id": "b0b28c65-d8fb-4667-908f-f057fc4b1b9c",
   "metadata": {},
   "outputs": [],
   "source": [
    "def summarize_publicly_traded_result(result: dict, company_name: str) -> str:\n",
    "    URL = result[\"link\"]\n",
    "    print(f\"Summarizing search result {URL}:\")\n",
    "    try:\n",
    "        contents = u.download_web_page_as_text(URL, s3, textract,\n",
    "                                               BUCKET_NAME, headers=curl_headers)\n",
    "        if not contents:\n",
    "            print(f\"Ignoring non-PDF, non-HTML content found at {URL}\")\n",
    "            return \"unknown\", None\n",
    "        prompt = u.strip_multiline_whitespace(f\"\"\"\\\n",
    "            You are a researcher who has been tasked\n",
    "            with determining whether {company_name} is publicly-traded.\n",
    "            \n",
    "            You have access to the following web page:\n",
    "             \n",
    "            <HTML_contents>\n",
    "            {contents}\n",
    "            </HTML_contents>\n",
    "            \n",
    "            Based on this web page, return either \"True\" or \"False\" if you think this company\n",
    "            is or isn't publicly traded. If you don't know return \"unknown\". You must wrap your\n",
    "            result in <result></result> tags.\n",
    "            \n",
    "            Also, if this company IS publicly-traded then return its stock ticker in <ticker></ticker>\n",
    "            tags.\n",
    "            \"\"\")\n",
    "        result = wLLM.invoke(prompt)\n",
    "        # print(f\"-------result:\\n{result}\\n-------\")\n",
    "        tags = u.extract_multiple_tags(result)\n",
    "        # print(f\"tags {tags}\")\n",
    "        if \"result\" not in tags or tags[\"result\"] == \"unknown\":\n",
    "            result = \"unknown\"\n",
    "        else:\n",
    "            result = tags[\"result\"].strip()\n",
    "        if \"ticker\" not in tags or tags[\"ticker\"] == \"unknown\":\n",
    "            ticker = \"unknown\"\n",
    "        else:\n",
    "            ticker = tags[\"ticker\"].strip()\n",
    "    except ValueError as ex:\n",
    "        print(ex)\n",
    "        return \"unknown\", None\n",
    "    return result, ticker\n",
    "\n",
    "\n",
    "def is_publicly_traded(company_name: str, company_url: str) -> bool:\n",
    "    query = f\"Is {company_name} publicly-traded?\"# site:{u.extract_site_from_URL(company_url)}\"\n",
    "    response_json = u.google_search(query, num_results=5)\n",
    "    try:\n",
    "        organic_results = response_json[\"organic_results\"]\n",
    "    except KeyError:\n",
    "        print(\"Warning: Google returned 0 results for this query\")\n",
    "        organic_results = []\n",
    "\n",
    "    for result in organic_results:\n",
    "        URL = result[\"link\"]\n",
    "        print(f\"{URL}\")\n",
    "\n",
    "    summaries = [summarize_publicly_traded_result(result, company_name)\n",
    "                 for result in organic_results]\n",
    "    print(summaries)\n",
    "    is_publics, tickers = zip(*summaries)\n",
    "    is_public = u.most_common_elem(is_publics)\n",
    "    ticker = u.most_common_elem(tickers)\n",
    "    return None if is_public == \"unknown\" else is_public, ticker"
   ]
  },
  {
   "cell_type": "code",
   "execution_count": 63,
   "id": "0f0c547d-ecf3-4def-8f2f-f7ad8bd98dca",
   "metadata": {},
   "outputs": [
    {
     "name": "stdout",
     "output_type": "stream",
     "text": [
      "google_search 'Is relay therapeutics publicly-traded?' num_results=5 timeout=20\n",
      "https://ir.relaytx.com/news-releases/news-release-details/relay-therapeutics-announces-pricing-public-offering-common-0\n",
      "https://ir.relaytx.com/news-releases/news-release-details/relay-therapeutics-announces-closing-initial-public-offering-and\n",
      "https://finance.yahoo.com/quote/RLAY/\n",
      "https://ir.relaytx.com/news-releases/news-release-details/relay-therapeutics-announces-pricing-initial-public-offering\n",
      "https://www.cnbc.com/quotes/RLAY\n",
      "Summarizing search result https://ir.relaytx.com/news-releases/news-release-details/relay-therapeutics-announces-pricing-public-offering-common-0:\n",
      "download_web_page https://ir.relaytx.com/news-releases/news-release-details/relay-therapeutics-announces-pricing-public-offering-common-0\n",
      "Error raised by bedrock service: An error occurred (ValidationException) when calling the InvokeModel operation: \"claude-3-sonnet-20240229\" is not supported on this API. Please use the Messages API instead.\n",
      "Summarizing search result https://ir.relaytx.com/news-releases/news-release-details/relay-therapeutics-announces-closing-initial-public-offering-and:\n",
      "download_web_page https://ir.relaytx.com/news-releases/news-release-details/relay-therapeutics-announces-closing-initial-public-offering-and\n",
      "Error raised by bedrock service: An error occurred (ValidationException) when calling the InvokeModel operation: \"claude-3-sonnet-20240229\" is not supported on this API. Please use the Messages API instead.\n",
      "Summarizing search result https://finance.yahoo.com/quote/RLAY/:\n",
      "download_web_page https://finance.yahoo.com/quote/RLAY/\n",
      "Error raised by bedrock service: An error occurred (ValidationException) when calling the InvokeModel operation: \"claude-3-sonnet-20240229\" is not supported on this API. Please use the Messages API instead.\n",
      "Summarizing search result https://ir.relaytx.com/news-releases/news-release-details/relay-therapeutics-announces-pricing-initial-public-offering:\n",
      "download_web_page https://ir.relaytx.com/news-releases/news-release-details/relay-therapeutics-announces-pricing-initial-public-offering\n",
      "Error raised by bedrock service: An error occurred (ValidationException) when calling the InvokeModel operation: \"claude-3-sonnet-20240229\" is not supported on this API. Please use the Messages API instead.\n",
      "Summarizing search result https://www.cnbc.com/quotes/RLAY:\n",
      "download_web_page https://www.cnbc.com/quotes/RLAY\n",
      "Error raised by bedrock service: An error occurred (ValidationException) when calling the InvokeModel operation: \"claude-3-sonnet-20240229\" is not supported on this API. Please use the Messages API instead.\n",
      "[('unknown', None), ('unknown', None), ('unknown', None), ('unknown', None), ('unknown', None)]\n"
     ]
    },
    {
     "data": {
      "text/plain": [
       "(None, None)"
      ]
     },
     "execution_count": 63,
     "metadata": {},
     "output_type": "execute_result"
    }
   ],
   "source": [
    "# is_publicly_traded(\"Amgen\", \"https://amgen.com\")\n",
    "# is_publicly_traded(\"protagonist therapeutics\", \"https://www.protagonist-inc.com\")\n",
    "is_publicly_traded(\"relay therapeutics\", \"https://www.relaytx.com\")"
   ]
  },
  {
   "cell_type": "code",
   "execution_count": 54,
   "id": "36fbef0d-1496-48d8-ac7f-99fcbe3a88c5",
   "metadata": {},
   "outputs": [],
   "source": [
    "def generate_stock_price_graph(company_name: str):\n",
    "    prompt = u.strip_multiline_whitespace(f\"\"\"\\\n",
    "        Show me a table of the stock price of {company_name} over the last year.\n",
    "        \"\"\")\n",
    "    result = wLLM.invoke(prompt)\n",
    "    print(f\"-------result:\\n{result}\\n-------\")\n",
    "    # tags = u.extract_multiple_tags(result)\n"
   ]
  },
  {
   "cell_type": "code",
   "execution_count": 55,
   "id": "0f028cb2-2f7f-4513-b530-8911faa3cf74",
   "metadata": {},
   "outputs": [
    {
     "name": "stdout",
     "output_type": "stream",
     "text": [
      "-------result:\n",
      " Unfortunately, I do not have access to historical stock price data for specific companies. As an AI assistant without direct access to financial data sources, I cannot generate a table of Amgen's stock prices over the past year. However, this data should be publicly available on financial websites and in financial publications if you would like to look it up yourself. Let me know if you have any other questions I can assist with!\n",
      "-------\n"
     ]
    }
   ],
   "source": [
    "generate_stock_price_graph(\"Amgen\")"
   ]
  },
  {
   "cell_type": "markdown",
   "id": "1546aacc-f2d9-49a4-a0fc-eabb9321972a",
   "metadata": {},
   "source": [
    "## What does the company do, what are its top products?"
   ]
  },
  {
   "cell_type": "code",
   "execution_count": 14,
   "id": "0548fd5e-2276-4f84-900c-8555ecf660b1",
   "metadata": {
    "tags": []
   },
   "outputs": [],
   "source": [
    "def summarize_top_products_web_page(text_contents: str, company_name: str) -> str:\n",
    "    prompt = u.strip_multiline_whitespace(f\"\"\"\\\n",
    "        You are a researcher at a biopharmaceutical company who has been tasked\n",
    "        with determining what the top products of {company_name} are.\n",
    "        \n",
    "        You have access to the following web page:\n",
    "         \n",
    "        <HTML_contents>\n",
    "        {text_contents}\n",
    "        </HTML_contents>\n",
    "        \n",
    "        If this web page contains information about what the top products of {company_name}\n",
    "        then extract and summarize that information in 5-6 sentences and put it in\n",
    "        <result></result> tags.\n",
    "        \n",
    "        If this web page doesn't contain useful information about what the top\n",
    "        products of {company_name} then you MUST say <no_result></no_result>.\n",
    "        \"\"\")\n",
    "    try:\n",
    "        result = wLLM.invoke(prompt)\n",
    "        # print(f\"-------result:\\n{result}\\n-------\")\n",
    "        tags = u.extract_multiple_tags(result)\n",
    "        # print(f\"tags {tags}\")\n",
    "        if \"no_result\" in tags:\n",
    "            result = None\n",
    "        elif \"result\" not in tags:\n",
    "            result = None\n",
    "        elif \"i don't know\" in tags[\"result\"].strip().lower():\n",
    "            result = None\n",
    "        else:\n",
    "            result = tags[\"result\"].strip()\n",
    "    except ValueError as ex:\n",
    "        print(ex)\n",
    "        result = None\n",
    "    # print(f\"summarize_top_products_web_page -> {result}\")\n",
    "    return result"
   ]
  },
  {
   "cell_type": "code",
   "execution_count": 15,
   "id": "857454d0-391f-4ce1-b386-19e455e8b0d4",
   "metadata": {
    "tags": []
   },
   "outputs": [],
   "source": [
    "def summarize_top_products_search_result(result: dict, company_name: str) -> str:\n",
    "    URL = result[\"link\"]\n",
    "    print(f\"Summarizing search result {URL}:\")\n",
    "    try:\n",
    "        content = u.download_web_page_as_text(URL, s3, textract,\n",
    "                                              BUCKET_NAME, headers=curl_headers)\n",
    "        if content:\n",
    "            result = summarize_top_products_web_page(content, company_name)\n",
    "        else:\n",
    "            print(f\"Ignoring non-PDF, non-HTML content found at {URL}\")\n",
    "            result = None\n",
    "    except (ConnectionError, MaxRetryError) as ex:\n",
    "        print(f\"Failed to download {URL}: {ex}\")\n",
    "        result = None\n",
    "    return result"
   ]
  },
  {
   "cell_type": "code",
   "execution_count": 16,
   "id": "3fb50390-c283-4777-a4eb-c976fcdd931f",
   "metadata": {
    "tags": []
   },
   "outputs": [],
   "source": [
    "def generate_top_products_html(company_name: str, company_url: str) -> str:\n",
    "    \"\"\"\n",
    "    Return an HTML string that summarizes the top products sold by this company.\n",
    "    \"\"\"\n",
    "    print(f\"+++++ generate_top_products_html {company_name} {company_url}\")\n",
    "    query = f\"What are the top products of {company_name}? site:{u.extract_site_from_URL(company_url)}\"\n",
    "    response_json = u.google_search(query, num_results=5)\n",
    "    try:\n",
    "        organic_results = response_json[\"organic_results\"]\n",
    "    except KeyError:\n",
    "        print(\"Warning: Google returned 0 results for this query\")\n",
    "        organic_results = []\n",
    "\n",
    "    for result in organic_results:\n",
    "        URL = result[\"link\"]\n",
    "        print(f\"Result: {URL}\")\n",
    "\n",
    "    summaries = [summarize_top_products_search_result(result, company_name)\n",
    "                 for result in organic_results]\n",
    "    summaries = [summary for summary in summaries if summary]\n",
    "\n",
    "    if summaries:\n",
    "        prompt_template = u.strip_multiline_whitespace(\"\"\"\\\n",
    "            Please consider the following excerpts:\n",
    "            \n",
    "            {% for summary in summaries %}\n",
    "            <excerpt>\n",
    "            {{ summary }}\n",
    "            </excerpt>\n",
    "            {% endfor %}\n",
    "            \n",
    "            Summarize the above excerpts in 5-6 sentences. Don't include any preamble. Don't use\n",
    "            the word \"excerpt\". Include your summary in <summary></summary> tags.\n",
    "            \"\"\")\n",
    "        prompt = jenv.from_string(prompt_template).render(summaries=summaries)\n",
    "        # print(f\"prompt: -------------\\n{prompt}\\n---------------\")\n",
    "        top_products = wLLM.invoke(prompt)\n",
    "        # print(f\"SoS: <<{top_products}>>\")\n",
    "        tags = u.extract_multiple_tags(top_products)\n",
    "        # print(f\"tags {tags}\")\n",
    "        try:\n",
    "            top_products = tags[\"summary\"]\n",
    "        except KeyError:\n",
    "            top_products = \"\"\n",
    "    else:\n",
    "        top_products = \"I couldn't find any information on their web site about their top products.\"\n",
    "    # print(f\"generate_top_products_html -> {top_products}\")\n",
    "    return top_products"
   ]
  },
  {
   "cell_type": "code",
   "execution_count": 17,
   "id": "d5fd8cc9-7dcd-4fa3-ab2b-eda01fcdf3d2",
   "metadata": {
    "tags": []
   },
   "outputs": [],
   "source": [
    "def summarize_web_page_what_they_do(text_contents: str, company_name: str) -> str:\n",
    "    \"\"\"\n",
    "    Return an HTML string that describes what the company does.\n",
    "    \"\"\"\n",
    "    prompt = u.strip_multiline_whitespace(f\"\"\"\\\n",
    "        You are a researcher at a biopharmaceutical company who has been tasked\n",
    "        with determining what {company_name} does.\n",
    "        \n",
    "        You have access to the following web page from {company_name}'s web site:\n",
    "         \n",
    "        <HTML_contents>\n",
    "        {text_contents}\n",
    "        </HTML_contents>\n",
    "        \n",
    "        If this web page contains information about what {company_name} does\n",
    "        then extract and summarize that information in 5-6 sentences and put it in\n",
    "        <result></result> tags.\n",
    "        \n",
    "        If this web page doesn't contain useful information about what {company_name}\n",
    "        does then you MUST say <result>I don't know</result>.\n",
    "        \"\"\")\n",
    "    try:\n",
    "        result = wLLM.invoke(prompt)\n",
    "        # print(f\"-------result:\\n{result}\\n-------\")\n",
    "        tags = u.extract_multiple_tags(result)\n",
    "        # print(f\"tags {tags}\")\n",
    "        if \"result\" not in tags:\n",
    "            result = None\n",
    "        elif \"i don't know\" in tags[\"result\"].strip().lower():\n",
    "            result = None\n",
    "        else:\n",
    "            result = tags[\"result\"].strip()\n",
    "    except ValueError as ex:\n",
    "        print(ex)\n",
    "        result = None\n",
    "    # print(f\"summarize_web_page_what_they_do -> {result}\")\n",
    "    return result"
   ]
  },
  {
   "cell_type": "code",
   "execution_count": 18,
   "id": "8f6cb3bc-8317-4c05-998d-3833ff07b702",
   "metadata": {
    "tags": []
   },
   "outputs": [],
   "source": [
    "def summarize_what_they_do_search_result(result: dict, company_name: str) -> str:\n",
    "    URL = result[\"link\"]\n",
    "    print(f\"Summarizing search result {URL}:\")\n",
    "    try:\n",
    "        content = u.download_web_page_as_text(URL, s3, textract, BUCKET_NAME,\n",
    "                                              headers=curl_headers)\n",
    "        if content:\n",
    "            result = summarize_web_page_what_they_do(content, company_name)\n",
    "        else:\n",
    "            print(f\"Ignoring non-PDF, non-HTML content found at {URL}\")\n",
    "            result = None\n",
    "    except (ConnectionError, MaxRetryError) as ex:\n",
    "        print(f\"Failed to download {URL}: {ex}\")\n",
    "        result = None\n",
    "    return result"
   ]
  },
  {
   "cell_type": "code",
   "execution_count": 41,
   "id": "29da47b7-afaf-4c02-855f-587466c443ee",
   "metadata": {
    "tags": []
   },
   "outputs": [
    {
     "ename": "SyntaxError",
     "evalue": "unterminated string literal (detected at line 30) (1608731350.py, line 30)",
     "output_type": "error",
     "traceback": [
      "\u001b[0;36m  Cell \u001b[0;32mIn[41], line 30\u001b[0;36m\u001b[0m\n\u001b[0;31m    Summarize the above snippets in 5-6 sentences. Don't include any preamble. Include your\u001b[0m\n\u001b[0m                                                      ^\u001b[0m\n\u001b[0;31mSyntaxError\u001b[0m\u001b[0;31m:\u001b[0m unterminated string literal (detected at line 30)\n"
     ]
    }
   ],
   "source": [
    "def generate_what_they_do_html(company_name: str, company_url: str) -> str:\n",
    "    \"\"\"\n",
    "    Return an HTML string that describes what this company does.\n",
    "    \"\"\"\n",
    "    print(f\"+++++ generate_what_they_do_html {company_name} {company_url}\")\n",
    "    query = f\"What does {company_name} do? site:{u.extract_site_from_URL(company_url)}\"\n",
    "    response_json = u.google_search(query, num_results=5)\n",
    "    try:\n",
    "        organic_results = response_json[\"organic_results\"]\n",
    "    except KeyError:\n",
    "        print(\"Warning: Google returned 0 results for this query\")\n",
    "        organic_results = []\n",
    "\n",
    "    for result in organic_results:\n",
    "        URL = result[\"link\"]\n",
    "        print(f\"Result: {URL}\")\n",
    "\n",
    "    summaries = [summarize_what_they_do_search_result(result, company_name)\n",
    "                 for result in organic_results]\n",
    "    summaries = [summary for summary in summaries if summary]\n",
    "\n",
    "    prompt_template = u.strip_multiline_whitespace(\"\"\"\\\n",
    "        Please consider the following snippets:\n",
    "    \n",
    "        {% for summary in summaries %}\n",
    "        <snippet>\n",
    "        {{ summary }}\n",
    "        </snippet>\n",
    "        {% endfor %}\n",
    "    \n",
    "        Summarize the above snippets in 5-6 sentences. Don't include any preamble. Include your\n",
    "        summary in <summary></summary> tags.\n",
    "        \"\"\")\n",
    "    prompt = jenv.from_string(prompt_template).render(summaries=summaries)\n",
    "    # print(f\"prompt: -------------\\n{prompt}\\n---------------\")\n",
    "    what_they_do = wLLM.invoke(prompt)\n",
    "    # print(f\"SoS: <<{what_they_do}>>\")\n",
    "    tags = u.extract_multiple_tags(what_they_do)\n",
    "    # print(f\"tags {tags}\")\n",
    "    try:\n",
    "        what_they_do = tags[\"summary\"]\n",
    "    except KeyError:\n",
    "        what_they_do = \"\"\n",
    "    return what_they_do"
   ]
  },
  {
   "cell_type": "code",
   "execution_count": 42,
   "id": "f170fc04-17b6-450a-b514-82c65b95d947",
   "metadata": {
    "tags": []
   },
   "outputs": [],
   "source": [
    "def generate_company_summary_html(company_name: str, company_url: str) -> str:\n",
    "    \"\"\"\n",
    "    Return an HTML string that contains two paragraphs: the first describes\n",
    "    what this company does, the second describes what products they sell.\n",
    "    \"\"\"\n",
    "    what_they_do_html = generate_what_they_do_html(company_name, company_url)\n",
    "    top_products_html = generate_top_products_html(company_name, company_url)\n",
    "    return f\"{what_they_do_html}\\n<p>\\n{top_products_html}\"    "
   ]
  },
  {
   "cell_type": "code",
   "execution_count": 43,
   "id": "204880ab-6a94-4d27-91ce-9bdfcca87140",
   "metadata": {
    "tags": []
   },
   "outputs": [],
   "source": [
    "def generate_and_show_company_summary(company_name: str, company_url: str):\n",
    "    if enable_test_harness:\n",
    "        return HTML(generate_company_summary_html(company_name, company_url))\n",
    "    else:\n",
    "        return None"
   ]
  },
  {
   "cell_type": "code",
   "execution_count": 22,
   "id": "e7cc53f3-f175-4718-8846-47132f68bd9d",
   "metadata": {
    "tags": []
   },
   "outputs": [],
   "source": [
    "# generate_and_show_company_summary(\"agios\", \"https://www.agios.com\")\n",
    "# generate_and_show_company_summary(\"Arbor Biotechnologies\", \"https://arbor.bio\")\n",
    "generate_and_show_company_summary(\"Incyte\", \"https://incyte.com\")"
   ]
  },
  {
   "cell_type": "markdown",
   "id": "da84f028-f3e0-4d3f-b8f4-581edb007e3a",
   "metadata": {},
   "source": [
    "## Leadership"
   ]
  },
  {
   "cell_type": "code",
   "execution_count": 23,
   "id": "d44c5ed2-47fb-4a77-a9cd-7d17c2d70f2b",
   "metadata": {
    "tags": []
   },
   "outputs": [],
   "source": [
    "def extract_exec_info_from_page(job_role: str, company_name: str, html_contents: str) -> str:\n",
    "    html_contents = u.remove_noise_from_web_page(html_contents)\n",
    "    prompt = u.strip_multiline_whitespace(f\"\"\"\\\n",
    "        You are a researcher at a biopharmaceutical company who has been tasked\n",
    "        with finding out who the {job_role} is at {company_name}. You have\n",
    "        access to the following web page from {company_name}'s web site:\n",
    "         \n",
    "        <HTML_contents>\n",
    "        {html_contents}\n",
    "        </HTML_contents>\n",
    "        \n",
    "        Extract all information about the current {job_role} that you can find on this web page.\n",
    "        \n",
    "        If you do find information about the {job_role} then return their name in <name></name>\n",
    "        tags, their title in <title></title> tags, and return a 3-5 sentence bio in <bio></bio>\n",
    "        tags. Return only information about THIS role/title, do not return anything about other roles.\n",
    "        \n",
    "        You must not make anything up, if you don't know something then leave it out.\n",
    "        \"\"\")\n",
    "    try:\n",
    "        result = wLLM.invoke(prompt)\n",
    "        # print(f\"-------result:\\n{result}\\n-------\")\n",
    "        info = u.extract_multiple_tags(result)\n",
    "        # print(json.dumps(info, indent=2))\n",
    "        return info\n",
    "    except ValueError as ex:\n",
    "        print(ex)\n",
    "        return None"
   ]
  },
  {
   "cell_type": "code",
   "execution_count": 24,
   "id": "87e34103-6e8e-4bdd-909a-3181668628a7",
   "metadata": {
    "tags": []
   },
   "outputs": [],
   "source": [
    "leadership_roles = [\n",
    "    \"Chief Executive Officer\",\n",
    "    \"Chief Financial Officer\",\n",
    "    \"Chief Science Officer\",\n",
    "    \"Chief Medical Officer\",\n",
    "    \"Chief Operating Officer\"\n",
    "]\n",
    "\n",
    "def generate_leadership_team_html(company_name: str, company_url: str) -> str:\n",
    "    \"\"\"\n",
    "    Return an HTML string that describes the key leaders at this company.\n",
    "    \"\"\"\n",
    "    print(f\"++++++ generate_leadership_team_html {company_name} {company_url}\")\n",
    "    leaders = []\n",
    "    for role in leadership_roles:\n",
    "        print(f\"\\nRole {role}\")\n",
    "        response_json = u.google_search(f\"{role} {company_name}\", num_results=3)\n",
    "        organic_results = response_json[\"organic_results\"]\n",
    "        for i, result in enumerate(organic_results):\n",
    "            this_URL = result[\"link\"]\n",
    "            # is the top hit from the company's website?\n",
    "            parsed_URL = urlparse(this_URL)\n",
    "            if u.same_TLD(parsed_URL.netloc, u.extract_site_from_URL(company_url)):\n",
    "                content = u.download_web_page(this_URL)\n",
    "                if content is None:\n",
    "                    print(f\"Ignoring {this_URL} due to empty content\")\n",
    "                else:\n",
    "                    info = extract_exec_info_from_page(role, company_name, content)\n",
    "                    leaders.append(info)\n",
    "                    break\n",
    "            else:\n",
    "                print(f\"Ignoring hit #{i} {this_URL}: wrong TLD\")\n",
    "    leaders = [x for x in leaders if x and x.get(\"name\", None) and x[\"name\"].strip() != \"\"]\n",
    "    for leader in leaders:\n",
    "        for k, v in leader.items():\n",
    "            leader[k] = u.escape_HTML_text(v)\n",
    "    template = \"\"\"\\\n",
    "    <ul>\n",
    "      {% for leader in leaders %}\n",
    "          <li> {{leader.name}}, {{leader.title}}. {{leader.bio}}\n",
    "      {% endfor %}\n",
    "    </ul>\n",
    "    \"\"\"\n",
    "    html = jenv.from_string(template).render(leaders=leaders)\n",
    "    # print(f\"generate_leadership_team_html -> {html}\")\n",
    "    return html"
   ]
  },
  {
   "cell_type": "code",
   "execution_count": 25,
   "id": "448ca680-d60e-449c-ac35-7e7b706ead6a",
   "metadata": {
    "tags": []
   },
   "outputs": [],
   "source": [
    "# HTML(generate_leadership_team_html(\"Beam Therapeutics\", \"https://beamtx.com\"))"
   ]
  },
  {
   "cell_type": "markdown",
   "id": "70e9382d-1c2c-4abb-b83c-e264247f2466",
   "metadata": {},
   "source": [
    "## Press Releases\n",
    "\n",
    "The approach here is two-fold:\n",
    "\n",
    "1. Use google to find individual pages on the company's web site where each page contains one press release. Then we use an LLM to verify that each page actually contains a press release and to extract metadata. This approach fails if the press releases are stored on a 3rd-party web site.\n",
    "\n",
    "2. Use google to find press releases about this company on prnewswire.com. Verify and extract metadata as above. This only works if the press releases are hosted by prnewswire.\n",
    "\n",
    "We combine these by first trying approach #1. If we get zero results then we fallback to approach #2."
   ]
  },
  {
   "cell_type": "code",
   "execution_count": 26,
   "id": "f8e7aebd-7bc7-43ed-9c23-431490bba015",
   "metadata": {
    "tags": []
   },
   "outputs": [],
   "source": [
    "def analyze_in_situ_web_page_for_single_PR(html_contents: str, company_name: str) -> str:\n",
    "    prompt = u.strip_multiline_whitespace(f\"\"\"\\\n",
    "        You are a researcher at a biopharmaceutical company who has been tasked\n",
    "        with finding out what press releases have recently published by {company_name}.\n",
    "        \n",
    "        You have access to the following web page from {company_name}'s web site:\n",
    "         \n",
    "        <HTML_contents>\n",
    "        {html_contents}\n",
    "        </HTML_contents>\n",
    "        \n",
    "        Given this web page I want you to analyze it and compute four values, each in XML tags:\n",
    "        \n",
    "         + Does this web page contain a single press release, not a listing of press releases? If so\n",
    "           return <contains_PR>True</contains_PR> otherwise return <contains_PR>False</contains_PR>.\n",
    "         + If this page does contain a single press release then when was it published? Return your\n",
    "           result in <publication_date></publication_date> tags.\n",
    "         + If this page does contain a single press release then does it describe financial information\n",
    "           like quarterly results? If so return <is_financial>True</is_financial>, otherwise\n",
    "           return <is_financial>True</is_financial>.\n",
    "         + If this page does contain a single press release then return the title (in <title></title> tags)\n",
    "           and a 3-5 sentence abstract (in <abstract></abstract> tags).\n",
    "        \"\"\")\n",
    "    try:\n",
    "        result = wLLM.invoke(prompt)\n",
    "        # print(f\"-------result:\\n{result}\\n-------\")\n",
    "        tags = u.extract_multiple_tags(result)\n",
    "        # print(json.dumps(tags, indent=2))\n",
    "        return tags\n",
    "    except ValueError as ex:\n",
    "        print(ex)\n",
    "        return {}"
   ]
  },
  {
   "cell_type": "code",
   "execution_count": 27,
   "id": "a429edff-ea45-44ec-a595-86cebe593c36",
   "metadata": {
    "tags": []
   },
   "outputs": [],
   "source": [
    "def analyze_external_web_page_for_single_PR(html_contents: str, company_name: str) -> str:\n",
    "    prompt = u.strip_multiline_whitespace(f\"\"\"\\\n",
    "        You are a researcher at a biopharmaceutical company who has been tasked\n",
    "        with finding out what press releases have recently published by {company_name}.\n",
    "        \n",
    "        You have access to the following web page:\n",
    "         \n",
    "        <HTML_contents>\n",
    "        {html_contents}\n",
    "        </HTML_contents>\n",
    "        \n",
    "        Given this web page I want you to analyze it and compute four values, each in XML tags:\n",
    "        \n",
    "         + Does this web page contain a single press release, not a listing of press releases? If so\n",
    "           return <contains_PR>True</contains_PR> otherwise return <contains_PR>False</contains_PR>.\n",
    "         + Is the press release on this page authored by {company_name}? Return \n",
    "           <authored_by>True/False</authored_by> accordingly.\n",
    "         + If this page does contain a single press release then when was it published? Return your\n",
    "           result in <publication_date></publication_date> tags.\n",
    "         + If this page does contain a single press release then does it describe financial information\n",
    "           like quarterly results? If so return <is_financial>True</is_financial>, otherwise\n",
    "           return <is_financial>True</is_financial>.\n",
    "         + If this page does contain a single press release then return the title (in <title></title> tags)\n",
    "           and a 3-5 sentence abstract (in <abstract></abstract> tags).\n",
    "        \"\"\")\n",
    "    try:\n",
    "        result = wLLM.invoke(prompt)\n",
    "        # print(f\"-------result:\\n{result}\\n-------\")\n",
    "        tags = u.extract_multiple_tags(result)\n",
    "        # print(json.dumps(tags, indent=2))\n",
    "        return tags\n",
    "    except ValueError as ex:\n",
    "        print(ex)\n",
    "        return {}"
   ]
  },
  {
   "cell_type": "code",
   "execution_count": 29,
   "id": "8833c395-f6d3-435a-91c5-22980998be80",
   "metadata": {
    "tags": []
   },
   "outputs": [],
   "source": [
    "def generate_list_of_externally_hosted_PRs(company_name: str, company_url: str) -> List[dict]:\n",
    "    query = f\"{company_name} site:prnewswire.com\"\n",
    "    response_json = u.google_search(query, num_results=20)\n",
    "    organic_results = response_json[\"organic_results\"]\n",
    "    for result in organic_results:\n",
    "        URL = result[\"link\"]\n",
    "        print(URL)\n",
    "\n",
    "    def process_organic_result(result):\n",
    "        URL = result[\"link\"]\n",
    "        print(f\"URL {URL}:\")\n",
    "        content_str = u.download_web_page_as_text(URL, s3, textract,\n",
    "                                                  BUCKET_NAME, headers=curl_headers)\n",
    "        if content_str:\n",
    "            pr = analyze_external_web_page_for_single_PR(content_str, company_name)\n",
    "            pr = {**pr, \"URL\": URL}\n",
    "            return pr\n",
    "        else:\n",
    "            print(f\"Ignoring non-HTML content found at {URL}\")\n",
    "            return None\n",
    "\n",
    "    raw_press_releases = [process_organic_result(result) for result in organic_results]\n",
    "    raw_press_releases = [pr for pr in raw_press_releases if pr]\n",
    "    raw_press_releases = [pr for pr in raw_press_releases\n",
    "                          if pr.get(\"authored_by\", \"False\").strip().lower() == \"true\"]\n",
    "    # print(f\"generate_list_of_externally_hosted_PRs -> {raw_press_releases}\")\n",
    "    return raw_press_releases"
   ]
  },
  {
   "cell_type": "code",
   "execution_count": 30,
   "id": "ac58c204-c088-4dac-8f54-3a413ca97093",
   "metadata": {
    "tags": []
   },
   "outputs": [],
   "source": [
    "today = dateparser.parse(\"now\")\n",
    "one_year = datetime.timedelta(days=365)\n",
    "two_years = datetime.timedelta(days=2*365)\n",
    "\n",
    "def parse_date(s: str) -> datetime.datetime:\n",
    "    \"\"\" Remove any timezone info, if there, so we can do easy comparison with now \"\"\"\n",
    "    try:\n",
    "        dt = dateparser.parse(s)\n",
    "        dt = dt.replace(tzinfo=None)\n",
    "        return dt\n",
    "    except Exception as ex:\n",
    "        return today # this is a hack not sure what else to do if date is malformed\n",
    "\n",
    "def published_recently(pr: dict, cutoff: datetime.timedelta) -> bool:\n",
    "    if pr[\"publication_date\"]:\n",
    "        return (today - parse_date(pr[\"publication_date\"])) < cutoff\n",
    "    else:\n",
    "        return True # if no publication date, let's assume it's recent\n",
    "\n",
    "def remove_extraneous_PRs(press_releases: List[dict]) -> List[dict]:\n",
    "    press_releases = [pr for pr in press_releases\n",
    "                       if pr[\"contains_PR\"].strip().lower() == \"true\" and\\\n",
    "                          pr[\"is_financial\"].strip().lower() != \"true\"]\n",
    "    # Ideally, limit to those published in the last year, if that produces\n",
    "    # zero results then relax that to two years\n",
    "    result = [pr for pr in press_releases if published_recently(pr, cutoff=one_year)]\n",
    "    return result or [pr for pr in press_releases if published_recently(pr, cutoff=two_years)]"
   ]
  },
  {
   "cell_type": "code",
   "execution_count": 28,
   "id": "8369f640-9449-4f70-820b-246f45bcf3dd",
   "metadata": {
    "tags": []
   },
   "outputs": [],
   "source": [
    "def generate_list_of_in_situ_PRs(company_name: str, company_url: str) -> List[dict]:\n",
    "    query = f\"press releases site:{u.extract_TLD_from_URL(company_url)}\"\n",
    "    response_json = u.google_search(query, num_results=20)\n",
    "    try:\n",
    "        organic_results = response_json[\"organic_results\"]\n",
    "    except KeyError:\n",
    "        organic_results = []\n",
    "        \n",
    "    for result in organic_results:\n",
    "        URL = result[\"link\"]\n",
    "        print(URL)\n",
    "\n",
    "    def process_organic_result(result: dict) -> Optional[dict]:\n",
    "        URL = result[\"link\"]\n",
    "        print(f\"URL {URL}:\")\n",
    "        content_str = u.download_web_page_as_text(URL, s3, textract,\n",
    "                                                  BUCKET_NAME, headers=curl_headers)\n",
    "        if content_str:\n",
    "            pr = analyze_in_situ_web_page_for_single_PR(content_str, company_name)\n",
    "            pr = {**pr, \"URL\": URL}\n",
    "            return pr\n",
    "        else:\n",
    "            print(f\"Ignoring non-HTML content found at {URL}\")\n",
    "            return None\n",
    "\n",
    "    raw_press_releases = [process_organic_result(result) for result in organic_results]\n",
    "    raw_press_releases = [pr for pr in raw_press_releases if pr]\n",
    "    # print(f\"generate_list_of_in_situ_PRs -> {raw_press_releases}\")\n",
    "    return raw_press_releases"
   ]
  },
  {
   "cell_type": "code",
   "execution_count": 31,
   "id": "9ece9d6b-ceef-4d3d-ba5b-fe99d44de86d",
   "metadata": {
    "tags": []
   },
   "outputs": [],
   "source": [
    "def generate_press_releases_html(company_name: str, company_url: str) -> str:\n",
    "    \"\"\"\n",
    "    Use Google to find individual pages for press releases and then use Claude\n",
    "    to determine if the downloaded page is actually a PR (and not, e.g. a list of PRs).\n",
    "    \"\"\"\n",
    "    print(f\"++++++ generate_press_releases_html {company_name} {company_url}\")\n",
    " \n",
    "    press_releases = remove_extraneous_PRs(\n",
    "                            generate_list_of_in_situ_PRs(company_name, company_url))\n",
    "    if len(press_releases) == 0:\n",
    "        press_releases = remove_extraneous_PRs(\n",
    "                            generate_list_of_externally_hosted_PRs(company_name, company_url))\n",
    "\n",
    "    # print(f\"press_releases {json.dumps(press_releases, indent=2)}\")\n",
    "    \n",
    "    for pr in press_releases:\n",
    "        for key in [\"title\", \"abstract\"]:\n",
    "            if key in pr:\n",
    "                pr[key] = u.escape_HTML_text(pr[key])\n",
    "\n",
    "    # print(f\"press_releases {json.dumps(press_releases, indent=2)}\")\n",
    "    if press_releases:\n",
    "        template = u.strip_multiline_whitespace(\"\"\"\\\n",
    "            <ul>\n",
    "              {% for pr in press_releases %}\n",
    "                  <li> {{pr.publication_date or \"\"}} <a href=\"{{ pr.URL }}\">{{ pr.title }}</a><p/>\n",
    "                       {{ pr.abstract or \"\" }}\n",
    "              {% endfor %}\n",
    "            </ul>\n",
    "            \"\"\")\n",
    "        html = jenv.from_string(template).render(press_releases=press_releases)\n",
    "    else:\n",
    "        html = \"No recent press releases were found.\"\n",
    "    # print(f\"generate_press_releases_html -> {html}\")\n",
    "    return html\n",
    "\n",
    "def generate_and_show_PRs(company_name: str, company_url: str):\n",
    "    if enable_test_harness:\n",
    "        return HTML(generate_press_releases_html(company_name, company_url))\n",
    "    else:\n",
    "        return None"
   ]
  },
  {
   "cell_type": "code",
   "execution_count": 32,
   "id": "935e26a7-b2be-4451-a77c-7d19847e41b6",
   "metadata": {
    "tags": []
   },
   "outputs": [],
   "source": [
    "# generate_and_show_PRs(\"Beam Therapeutics\", \"https://beamtx.com\")\n",
    "# generate_and_show_PRs(\"Capstan Therapeutics\", \"https://www.capstantx.com\")\n",
    "# generate_and_show_PRs(\"Protagonist Therapeutics Inc\", \"https://www.protagonist-inc.com\")\n",
    "# generate_and_show_PRs(\"Capstan Therapeutics\", \"https://www.capstantx.com\")\n",
    "# generate_and_show_PRs(\"Vaderis Therapeutics\", \"https://vaderis.com\")\n",
    "generate_and_show_PRs(\"Hemavant Sciences\", \"https://hemavant.com\")\n",
    "# generate_and_show_PRs(\"Intellia Therapeutics\", \"https://www.intelliatx.com\")"
   ]
  },
  {
   "cell_type": "markdown",
   "id": "2f6cdf4e-2916-4d95-a35e-29bf1667af4e",
   "metadata": {
    "tags": []
   },
   "source": [
    "## Scientific posters"
   ]
  },
  {
   "cell_type": "code",
   "execution_count": 33,
   "id": "3608d9ac-a70f-416a-a803-e103bb11f3f5",
   "metadata": {
    "tags": []
   },
   "outputs": [],
   "source": [
    "def analyze_web_page_as_poster(search_result: dict) -> Optional[dict]:\n",
    "    URL = search_result[\"link\"]\n",
    "    print(f\"analyze_web_page_as_poster URL: {URL}\")\n",
    "    try:\n",
    "        text = u.download_web_page_as_text(URL, s3, textract,\n",
    "                                           BUCKET_NAME, headers=curl_headers,\n",
    "                                           allow_only_single_page_PDFs=True)\n",
    "        if text is not None:\n",
    "            prompt = u.strip_multiline_whitespace(f\"\"\"\\\n",
    "                You are given the following contents of a PDF file:\n",
    "    \n",
    "                <PDF_contents>\n",
    "                {text}\n",
    "                </PDF_contents>\n",
    "    \n",
    "                This PDF file may contain a scientific poster presentation.\n",
    "                \n",
    "                Your first task is to determine if it _does_ contain a scientific poster\n",
    "                presentation. If it does not, you should return <not_a_poster></not_a_poster>.\n",
    "                \n",
    "                If it does contain a scientific poster then your second tasks to return some\n",
    "                metadata about the poster: return the title of\n",
    "                the poster in <title></title> tags and the entire citation in <citation>\n",
    "                </citation> tags. Also, return a 3-5 sentence summary of the key points of\n",
    "                the poster in <abstract></abstract> tags.\n",
    "                \"\"\")\n",
    "            resp = wLLM.invoke(prompt)\n",
    "            # print(f\"resp: {resp}\")\n",
    "            tags = u.extract_multiple_tags(resp)\n",
    "            # print(f\"tags: {tags}\")\n",
    "            if not tags:\n",
    "                result = None\n",
    "            elif \"not_a_poster\" in tags:\n",
    "                result = None\n",
    "            else:\n",
    "                result = {\"URL\": URL, **tags}\n",
    "        else:\n",
    "            result = None\n",
    "    except Exception as ex:\n",
    "        print(f\"Exception: {ex}\")\n",
    "        result = None\n",
    "    # print(f\"analyze_web_page_as_poster -> {result}\")\n",
    "    return result"
   ]
  },
  {
   "cell_type": "code",
   "execution_count": 34,
   "id": "ebfafe80-f766-40d9-841d-10dea0507f88",
   "metadata": {
    "tags": []
   },
   "outputs": [],
   "source": [
    "def generate_posters_html(company_name: str, company_url: str) -> str:\n",
    "    \"\"\"\n",
    "    Get single-page PDFs from the company's web site and then use the LLM\n",
    "    to parse the title etc out of the PDF.\n",
    "    \"\"\"\n",
    "    query = f\"poster presentation site:{u.extract_site_from_URL(company_url)}\"\n",
    "    response_json = u.google_search(query, num_results=20)\n",
    "    try:\n",
    "        organic_results = response_json[\"organic_results\"]\n",
    "    except KeyError as ex:\n",
    "        print(\"Got back zero results from Google\")\n",
    "        organic_results = []\n",
    "        \n",
    "    for result in organic_results:\n",
    "        URL = result[\"link\"]\n",
    "        print(URL)\n",
    "\n",
    "    posters = [analyze_web_page_as_poster(result) for result in organic_results]\n",
    "    # print(f\"posters: {json.dumps(posters, indent=2)}\")\n",
    "    posters = [p for p in posters if p]\n",
    "    # print(f\"posters: {json.dumps(posters, indent=2)}\")\n",
    "    posters = [p for p in posters if {\"URL\", \"title\"} <= p.keys() and p[\"title\"]]\n",
    "    # print(f\"posters: {json.dumps(posters, indent=2)}\")\n",
    "    for p in posters:\n",
    "        p[\"citationOrTitle\"] = p.get(\"citation\", \"\") or p.get(\"title\", \"\")\n",
    "    if posters:\n",
    "        template = \"\"\"\\\n",
    "         <ul>\n",
    "          {% for poster in posters %}\n",
    "              <li> <a href=\"{{ poster.URL }}\">{{ poster.citationOrTitle }}</a>\n",
    "                 <p/>{{poster.abstract}}\n",
    "          {% endfor %}\n",
    "          </ul>\n",
    "        \"\"\"\n",
    "        html = jenv.from_string(template).render(posters=posters)\n",
    "    else:\n",
    "        html = \"No recent posters were found.\"\n",
    "    return html"
   ]
  },
  {
   "cell_type": "code",
   "execution_count": 35,
   "id": "e86155d7-ee1d-43d7-800e-b8b8d90a967b",
   "metadata": {
    "tags": []
   },
   "outputs": [],
   "source": [
    "def generate_and_show_posters(company_name: str, company_url: str):\n",
    "    if enable_test_harness:\n",
    "        return HTML(generate_posters_html(company_name, company_url))\n",
    "    else:\n",
    "        return None"
   ]
  },
  {
   "cell_type": "code",
   "execution_count": 36,
   "id": "aa8476e4-3bd0-4fc2-9e25-e78d51f9991a",
   "metadata": {
    "tags": []
   },
   "outputs": [],
   "source": [
    "# generate_and_show_posters(\"morphosys\", \"https://www.morphosys.com/en\")\n",
    "generate_and_show_posters(\"Incyte\", \"https://incyte.com\")"
   ]
  },
  {
   "cell_type": "markdown",
   "id": "f307d079-43ca-4f82-a128-52ad70b5df07",
   "metadata": {
    "tags": []
   },
   "source": [
    "## 10K report"
   ]
  },
  {
   "cell_type": "code",
   "execution_count": 44,
   "id": "2e22ea65-987d-4dbf-a5be-1a8b0200620e",
   "metadata": {
    "tags": []
   },
   "outputs": [],
   "source": [
    "def tenk_report_html(company_name: str) -> str:\n",
    "    \"\"\"\n",
    "    Return an HTML string that describes this company's 10K report.\n",
    "    \"\"\"\n",
    "    print(f\"+++ 10k_report_html {company_name}\")\n",
    "    response_json = u.google_search(f\"10K report {company_name} site:sec.gov\")\n",
    "    try:\n",
    "        tenk_URL = response_json[\"organic_results\"][0][\"link\"]\n",
    "    except KeyError as ex:\n",
    "        tenk_URL = None\n",
    "        print(ex)\n",
    "\n",
    "    if tenK_URL:\n",
    "        return f\"\"\"\\\n",
    "        Click <a href=\"{tenk_URL}\">here</a> for the PDF.\n",
    "        <hr/>\n",
    "        \"\"\"\n",
    "    else:\n",
    "        return f\"{company_name} does not have a 10K report\""
   ]
  },
  {
   "cell_type": "code",
   "execution_count": 38,
   "id": "096d844e-459c-4aff-9b84-a8f53831488e",
   "metadata": {
    "tags": []
   },
   "outputs": [
    {
     "name": "stdout",
     "output_type": "stream",
     "text": [
      "+++++ generate_what_they_do_html Agios https://www.agios.com/\n",
      "google_search 'What does Agios do? site:www.agios.com' num_results=5 timeout=20\n",
      "Result: https://www.agios.com/\n",
      "Result: https://www.agios.com/pipeline/\n",
      "Result: https://www.agios.com/about-us/\n",
      "Result: https://www.agios.com/our-medicine/\n",
      "Result: https://www.agios.com/about-us/history/\n",
      "Summarizing search result https://www.agios.com/:\n",
      "download_web_page https://www.agios.com/\n",
      "Summarizing search result https://www.agios.com/pipeline/:\n",
      "download_web_page https://www.agios.com/pipeline/\n",
      "Summarizing search result https://www.agios.com/about-us/:\n",
      "download_web_page https://www.agios.com/about-us/\n",
      "Summarizing search result https://www.agios.com/our-medicine/:\n",
      "download_web_page https://www.agios.com/our-medicine/\n",
      "Summarizing search result https://www.agios.com/about-us/history/:\n",
      "download_web_page https://www.agios.com/about-us/history/\n",
      "+++++ generate_top_products_html Agios https://www.agios.com/\n",
      "google_search 'What are the top products of Agios? site:www.agios.com' num_results=5 timeout=20\n",
      "Result: https://www.agios.com/pipeline/\n",
      "Result: https://www.agios.com/about-us/\n",
      "Result: https://www.agios.com/\n",
      "Result: https://www.agios.com/our-medicine/\n",
      "Result: https://www.agios.com/medical/pkd/\n",
      "Summarizing search result https://www.agios.com/pipeline/:\n",
      "download_web_page https://www.agios.com/pipeline/\n",
      "Summarizing search result https://www.agios.com/about-us/:\n",
      "download_web_page https://www.agios.com/about-us/\n",
      "Summarizing search result https://www.agios.com/:\n",
      "download_web_page https://www.agios.com/\n",
      "Summarizing search result https://www.agios.com/our-medicine/:\n",
      "download_web_page https://www.agios.com/our-medicine/\n",
      "Summarizing search result https://www.agios.com/medical/pkd/:\n",
      "download_web_page https://www.agios.com/medical/pkd/\n",
      "++++++ generate_leadership_team_html Agios https://www.agios.com/\n",
      "\n",
      "Role Chief Executive Officer\n",
      "google_search 'Chief Executive Officer Agios' num_results=3 timeout=20\n",
      "download_web_page https://www.agios.com/about-us/leadership/brian-goff/\n",
      "Caught in remove_noise_from_web_page: not enough values to unpack (expected 1, got 0)\n",
      "\n",
      "Role Chief Financial Officer\n",
      "google_search 'Chief Financial Officer Agios' num_results=3 timeout=20\n",
      "download_web_page https://investor.agios.com/news-releases/news-release-details/agios-appoints-cecilia-jones-chief-financial-officer\n",
      "\n",
      "Role Chief Science Officer\n",
      "google_search 'Chief Science Officer Agios' num_results=3 timeout=20\n",
      "download_web_page https://www.agios.com/about-us/leadership/\n",
      "Caught in remove_noise_from_web_page: not enough values to unpack (expected 1, got 0)\n",
      "\n",
      "Role Chief Medical Officer\n",
      "google_search 'Chief Medical Officer Agios' num_results=3 timeout=20\n",
      "download_web_page https://www.agios.com/about-us/leadership/sarah-gheuens-m-d-ph-d/\n",
      "Caught in remove_noise_from_web_page: not enough values to unpack (expected 1, got 0)\n",
      "\n",
      "Role Chief Operating Officer\n",
      "google_search 'Chief Operating Officer Agios' num_results=3 timeout=20\n",
      "download_web_page https://www.agios.com/about-us/leadership/\n",
      "Caught in remove_noise_from_web_page: not enough values to unpack (expected 1, got 0)\n",
      "++++++ generate_press_releases_html Agios https://www.agios.com/\n",
      "google_search 'press releases site:agios.com' num_results=20 timeout=20\n",
      "https://investor.agios.com/news-events/press-releases\n",
      "https://investor.agios.com/news-releases/news-release-details/agios-announces-clinical-proof-concept-phase-2a-trial-ag-946\n",
      "https://investor.agios.com/news-releases/news-release-details/agios-reports-business-highlights-and-third-quarter-2023\n",
      "https://investor.agios.com/news-releases/news-release-details/agios-announces-fda-approval-pyrukyndr-mitapivat-first-disease\n",
      "https://investor.agios.com/news-releases/news-release-details/agios-announces-key-anticipated-2024-milestones-across-rare\n",
      "https://investor.agios.com/news-releases/news-release-details/agios-receives-fda-breakthrough-therapy-designation-tibsovor\n",
      "https://investor.agios.com/news-releases/news-release-details/agios-reports-fourth-quarter-and-full-year-2023-financial\n",
      "https://investor.agios.com/news-releases/news-release-details/agios-announces-positive-results-phase-2-portion-rise-pivotal\n",
      "https://investor.agios.com/news-releases/news-release-details/agios-presents-positive-results-phase-2-portion-rise-pivotal\n",
      "https://investor.agios.com/news-releases/news-release-details/agios-announces-proposed-offering-common-stock-1\n",
      "https://investor.agios.com/news-releases/news-release-details/agios-announces-phase-3-energize-study-mitapivat-met-primary\n",
      "https://investor.agios.com/news-releases/news-release-details/agios-presents-new-clinical-data-supporting-benefits-pyrukyndr\n",
      "https://investor.agios.com/news-releases/news-release-details/agios-announces-closing-public-offering-and-full-exercise-0\n",
      "https://investor.agios.com/news-releases/news-release-details/agios-reports-fourth-quarter-and-full-year-2022-financial\n",
      "https://investor.agios.com/news-releases/news-release-details/agios-focus-developing-and-commercializing-innovative-treatments\n",
      "https://investor.agios.com/news-releases/news-release-details/agios-pharmaceuticals-present-broad-set-clinical-and-0\n",
      "https://investor.agios.com/news-releases/news-release-details/agios-present-td-cowen-44th-annual-health-care-conference-march\n",
      "https://investor.agios.com/news-releases/news-release-details/agios-announces-clinical-proof-concept-has-been-established\n",
      "https://investor.agios.com/news-releases/news-release-details/agios-receives-fda-breakthrough-therapy-designation-tibsovor-0\n",
      "URL https://investor.agios.com/news-events/press-releases:\n",
      "download_web_page https://investor.agios.com/news-events/press-releases\n",
      "URL https://investor.agios.com/news-releases/news-release-details/agios-announces-clinical-proof-concept-phase-2a-trial-ag-946:\n",
      "download_web_page https://investor.agios.com/news-releases/news-release-details/agios-announces-clinical-proof-concept-phase-2a-trial-ag-946\n",
      "URL https://investor.agios.com/news-releases/news-release-details/agios-reports-business-highlights-and-third-quarter-2023:\n",
      "download_web_page https://investor.agios.com/news-releases/news-release-details/agios-reports-business-highlights-and-third-quarter-2023\n",
      "URL https://investor.agios.com/news-releases/news-release-details/agios-announces-fda-approval-pyrukyndr-mitapivat-first-disease:\n",
      "download_web_page https://investor.agios.com/news-releases/news-release-details/agios-announces-fda-approval-pyrukyndr-mitapivat-first-disease\n",
      "URL https://investor.agios.com/news-releases/news-release-details/agios-announces-key-anticipated-2024-milestones-across-rare:\n",
      "download_web_page https://investor.agios.com/news-releases/news-release-details/agios-announces-key-anticipated-2024-milestones-across-rare\n",
      "URL https://investor.agios.com/news-releases/news-release-details/agios-receives-fda-breakthrough-therapy-designation-tibsovor:\n",
      "download_web_page https://investor.agios.com/news-releases/news-release-details/agios-receives-fda-breakthrough-therapy-designation-tibsovor\n",
      "URL https://investor.agios.com/news-releases/news-release-details/agios-reports-fourth-quarter-and-full-year-2023-financial:\n",
      "download_web_page https://investor.agios.com/news-releases/news-release-details/agios-reports-fourth-quarter-and-full-year-2023-financial\n",
      "URL https://investor.agios.com/news-releases/news-release-details/agios-announces-positive-results-phase-2-portion-rise-pivotal:\n",
      "download_web_page https://investor.agios.com/news-releases/news-release-details/agios-announces-positive-results-phase-2-portion-rise-pivotal\n",
      "URL https://investor.agios.com/news-releases/news-release-details/agios-presents-positive-results-phase-2-portion-rise-pivotal:\n",
      "download_web_page https://investor.agios.com/news-releases/news-release-details/agios-presents-positive-results-phase-2-portion-rise-pivotal\n",
      "URL https://investor.agios.com/news-releases/news-release-details/agios-announces-proposed-offering-common-stock-1:\n",
      "download_web_page https://investor.agios.com/news-releases/news-release-details/agios-announces-proposed-offering-common-stock-1\n",
      "URL https://investor.agios.com/news-releases/news-release-details/agios-announces-phase-3-energize-study-mitapivat-met-primary:\n",
      "download_web_page https://investor.agios.com/news-releases/news-release-details/agios-announces-phase-3-energize-study-mitapivat-met-primary\n",
      "URL https://investor.agios.com/news-releases/news-release-details/agios-presents-new-clinical-data-supporting-benefits-pyrukyndr:\n",
      "download_web_page https://investor.agios.com/news-releases/news-release-details/agios-presents-new-clinical-data-supporting-benefits-pyrukyndr\n",
      "URL https://investor.agios.com/news-releases/news-release-details/agios-announces-closing-public-offering-and-full-exercise-0:\n",
      "download_web_page https://investor.agios.com/news-releases/news-release-details/agios-announces-closing-public-offering-and-full-exercise-0\n",
      "URL https://investor.agios.com/news-releases/news-release-details/agios-reports-fourth-quarter-and-full-year-2022-financial:\n",
      "download_web_page https://investor.agios.com/news-releases/news-release-details/agios-reports-fourth-quarter-and-full-year-2022-financial\n",
      "URL https://investor.agios.com/news-releases/news-release-details/agios-focus-developing-and-commercializing-innovative-treatments:\n",
      "download_web_page https://investor.agios.com/news-releases/news-release-details/agios-focus-developing-and-commercializing-innovative-treatments\n",
      "URL https://investor.agios.com/news-releases/news-release-details/agios-pharmaceuticals-present-broad-set-clinical-and-0:\n",
      "download_web_page https://investor.agios.com/news-releases/news-release-details/agios-pharmaceuticals-present-broad-set-clinical-and-0\n",
      "URL https://investor.agios.com/news-releases/news-release-details/agios-present-td-cowen-44th-annual-health-care-conference-march:\n",
      "download_web_page https://investor.agios.com/news-releases/news-release-details/agios-present-td-cowen-44th-annual-health-care-conference-march\n",
      "URL https://investor.agios.com/news-releases/news-release-details/agios-announces-clinical-proof-concept-has-been-established:\n",
      "download_web_page https://investor.agios.com/news-releases/news-release-details/agios-announces-clinical-proof-concept-has-been-established\n",
      "URL https://investor.agios.com/news-releases/news-release-details/agios-receives-fda-breakthrough-therapy-designation-tibsovor-0:\n",
      "download_web_page https://investor.agios.com/news-releases/news-release-details/agios-receives-fda-breakthrough-therapy-designation-tibsovor-0\n",
      "google_search 'poster presentation site:www.agios.com' num_results=20 timeout=20\n",
      "https://www.agios.com/wp-content/uploads/2023/11/MIT-ALL-0230_Agios_ASH_2023_Trifold-Presentation_List_MA.pdf\n",
      "https://www.agios.com/ash-2022-data-room/\n",
      "https://www.agios.com/ash-2023-data-room/\n",
      "https://www.agios.com/eha-2022-data-room/\n",
      "https://www.agios.com/wp-content/uploads/2020/11/IDH-ALL-0034-ASH-2020-presentation-handout_MA.pdf\n",
      "https://www.agios.com/wp-content/uploads/2022/05/MIT-AL1.pdf\n",
      "https://www.agios.com/wp-content/uploads/2021/12/MIT-ALL-0080_Agios-ASH-Presentations-List-list-of-presentations.pdf\n",
      "https://www.agios.com/wp-content/uploads/2021/05/MIT-ALL-0048_GP051-21-Agios-EHA-2021-presentation-handout-SO06_13May21.pdf\n",
      "https://www.agios.com/wp-content/uploads/2022/06/P1562_Peak-Iron-Overload-Poster-Encore_for-upload.pdf\n",
      "https://www.agios.com/eha-2023-data-room/\n",
      "https://www.agios.com/wp-content/uploads/2020/06/EHA20-73-PKPD-poster-final_27May20_v2.pdf\n",
      "https://www.agios.com/wp-content/uploads/2020/06/EHA20-DRIVE-PK-3-Yr-Extension-poster-EP1561_final_27May20.pdf\n",
      "https://www.agios.com/wp-content/uploads/2021/12/848_LTE-PKD.pdf\n",
      "https://www.agios.com/wp-content/uploads/2021/05/PKD-US-0484-PK-Deficiency-Diagnostic-Leave-Behind-for-HCPs.pdf\n",
      "https://www.agios.com/ash-2022-med-affairs/\n",
      "https://www.agios.com/wp-content/uploads/2023/03/THA-ALL-0052-Thalassemia-News-Winter-2023_MA_APPROVED_High-res-2.pdf\n",
      "https://www.agios.com/wp-content/uploads/2020/06/EHA20-HCT-IVO-poster-final_28May20.pdf\n",
      "https://www.agios.com/wp-content/uploads/2023/03/2023-Agios-ESG-Report.pdf\n",
      "https://www.agios.com/wp-content/uploads/2020/12/Abstract-2814_AGILE-TiP.pdf\n",
      "analyze_web_page_as_poster URL: https://www.agios.com/wp-content/uploads/2023/11/MIT-ALL-0230_Agios_ASH_2023_Trifold-Presentation_List_MA.pdf\n",
      "download_web_page https://www.agios.com/wp-content/uploads/2023/11/MIT-ALL-0230_Agios_ASH_2023_Trifold-Presentation_List_MA.pdf\n",
      "s3://sgh-misc/temp-pdf-files/09a7dacb-e0a4-4a5a-b59a-d44813a29b2d.pdf\n",
      "Ignoring multi-page PDF at https://www.agios.com/wp-content/uploads/2023/11/MIT-ALL-0230_Agios_ASH_2023_Trifold-Presentation_List_MA.pdf\n",
      "analyze_web_page_as_poster URL: https://www.agios.com/ash-2022-data-room/\n",
      "download_web_page https://www.agios.com/ash-2022-data-room/\n",
      "analyze_web_page_as_poster URL: https://www.agios.com/ash-2023-data-room/\n",
      "download_web_page https://www.agios.com/ash-2023-data-room/\n",
      "analyze_web_page_as_poster URL: https://www.agios.com/eha-2022-data-room/\n",
      "download_web_page https://www.agios.com/eha-2022-data-room/\n",
      "Exception: Error raised by bedrock service: An error occurred (ExpiredTokenException) when calling the InvokeModel operation: The security token included in the request is expired\n",
      "analyze_web_page_as_poster URL: https://www.agios.com/wp-content/uploads/2020/11/IDH-ALL-0034-ASH-2020-presentation-handout_MA.pdf\n",
      "download_web_page https://www.agios.com/wp-content/uploads/2020/11/IDH-ALL-0034-ASH-2020-presentation-handout_MA.pdf\n",
      "Exception: An error occurred (ExpiredToken) when calling the PutObject operation: The provided token has expired.\n",
      "analyze_web_page_as_poster URL: https://www.agios.com/wp-content/uploads/2022/05/MIT-AL1.pdf\n",
      "download_web_page https://www.agios.com/wp-content/uploads/2022/05/MIT-AL1.pdf\n",
      "Exception: An error occurred (ExpiredToken) when calling the PutObject operation: The provided token has expired.\n",
      "analyze_web_page_as_poster URL: https://www.agios.com/wp-content/uploads/2021/12/MIT-ALL-0080_Agios-ASH-Presentations-List-list-of-presentations.pdf\n",
      "download_web_page https://www.agios.com/wp-content/uploads/2021/12/MIT-ALL-0080_Agios-ASH-Presentations-List-list-of-presentations.pdf\n",
      "Exception: An error occurred (ExpiredToken) when calling the PutObject operation: The provided token has expired.\n",
      "analyze_web_page_as_poster URL: https://www.agios.com/wp-content/uploads/2021/05/MIT-ALL-0048_GP051-21-Agios-EHA-2021-presentation-handout-SO06_13May21.pdf\n",
      "download_web_page https://www.agios.com/wp-content/uploads/2021/05/MIT-ALL-0048_GP051-21-Agios-EHA-2021-presentation-handout-SO06_13May21.pdf\n",
      "Exception: An error occurred (ExpiredToken) when calling the PutObject operation: The provided token has expired.\n",
      "analyze_web_page_as_poster URL: https://www.agios.com/wp-content/uploads/2022/06/P1562_Peak-Iron-Overload-Poster-Encore_for-upload.pdf\n",
      "download_web_page https://www.agios.com/wp-content/uploads/2022/06/P1562_Peak-Iron-Overload-Poster-Encore_for-upload.pdf\n",
      "Exception: An error occurred (ExpiredToken) when calling the PutObject operation: The provided token has expired.\n",
      "analyze_web_page_as_poster URL: https://www.agios.com/eha-2023-data-room/\n",
      "download_web_page https://www.agios.com/eha-2023-data-room/\n",
      "Exception: Error raised by bedrock service: An error occurred (ExpiredTokenException) when calling the InvokeModel operation: The security token included in the request is expired\n",
      "analyze_web_page_as_poster URL: https://www.agios.com/wp-content/uploads/2020/06/EHA20-73-PKPD-poster-final_27May20_v2.pdf\n",
      "download_web_page https://www.agios.com/wp-content/uploads/2020/06/EHA20-73-PKPD-poster-final_27May20_v2.pdf\n",
      "Exception: An error occurred (ExpiredToken) when calling the PutObject operation: The provided token has expired.\n",
      "analyze_web_page_as_poster URL: https://www.agios.com/wp-content/uploads/2020/06/EHA20-DRIVE-PK-3-Yr-Extension-poster-EP1561_final_27May20.pdf\n",
      "download_web_page https://www.agios.com/wp-content/uploads/2020/06/EHA20-DRIVE-PK-3-Yr-Extension-poster-EP1561_final_27May20.pdf\n",
      "Exception: An error occurred (ExpiredToken) when calling the PutObject operation: The provided token has expired.\n",
      "analyze_web_page_as_poster URL: https://www.agios.com/wp-content/uploads/2021/12/848_LTE-PKD.pdf\n",
      "download_web_page https://www.agios.com/wp-content/uploads/2021/12/848_LTE-PKD.pdf\n",
      "Exception: An error occurred (ExpiredToken) when calling the PutObject operation: The provided token has expired.\n",
      "analyze_web_page_as_poster URL: https://www.agios.com/wp-content/uploads/2021/05/PKD-US-0484-PK-Deficiency-Diagnostic-Leave-Behind-for-HCPs.pdf\n",
      "download_web_page https://www.agios.com/wp-content/uploads/2021/05/PKD-US-0484-PK-Deficiency-Diagnostic-Leave-Behind-for-HCPs.pdf\n",
      "Exception: An error occurred (ExpiredToken) when calling the PutObject operation: The provided token has expired.\n",
      "analyze_web_page_as_poster URL: https://www.agios.com/ash-2022-med-affairs/\n",
      "download_web_page https://www.agios.com/ash-2022-med-affairs/\n",
      "Exception: Error raised by bedrock service: An error occurred (ExpiredTokenException) when calling the InvokeModel operation: The security token included in the request is expired\n",
      "analyze_web_page_as_poster URL: https://www.agios.com/wp-content/uploads/2023/03/THA-ALL-0052-Thalassemia-News-Winter-2023_MA_APPROVED_High-res-2.pdf\n",
      "download_web_page https://www.agios.com/wp-content/uploads/2023/03/THA-ALL-0052-Thalassemia-News-Winter-2023_MA_APPROVED_High-res-2.pdf\n",
      "Exception: An error occurred (ExpiredToken) when calling the PutObject operation: The provided token has expired.\n",
      "analyze_web_page_as_poster URL: https://www.agios.com/wp-content/uploads/2020/06/EHA20-HCT-IVO-poster-final_28May20.pdf\n",
      "download_web_page https://www.agios.com/wp-content/uploads/2020/06/EHA20-HCT-IVO-poster-final_28May20.pdf\n",
      "Exception: An error occurred (ExpiredToken) when calling the PutObject operation: The provided token has expired.\n",
      "analyze_web_page_as_poster URL: https://www.agios.com/wp-content/uploads/2023/03/2023-Agios-ESG-Report.pdf\n",
      "download_web_page https://www.agios.com/wp-content/uploads/2023/03/2023-Agios-ESG-Report.pdf\n",
      "Exception: An error occurred (ExpiredToken) when calling the PutObject operation: The provided token has expired.\n",
      "analyze_web_page_as_poster URL: https://www.agios.com/wp-content/uploads/2020/12/Abstract-2814_AGILE-TiP.pdf\n",
      "download_web_page https://www.agios.com/wp-content/uploads/2020/12/Abstract-2814_AGILE-TiP.pdf\n",
      "Exception: An error occurred (ExpiredToken) when calling the PutObject operation: The provided token has expired.\n",
      "+++ 10k_report_html Agios\n",
      "google_search '10K report Agios site:sec.gov' num_results=5 timeout=20\n"
     ]
    },
    {
     "data": {
      "text/html": [
       "<html>\n",
       "  <head>\n",
       "      <title>Dossier for Agios</title>\n",
       "  </head>\n",
       "  <body>\n",
       "      <h1>Dossier for Agios <small>[generated in 31.6 minutes]</small></h1>\n",
       "      <h3>Company Summary</h3>\n",
       "      <p>Agios is a biopharmaceutical company focused on developing therapies for rare diseases, especially hemolytic anemias, by leveraging their expertise in cellular metabolism. Their lead product is mitapivat, which is approved to treat pyruvate kinase deficiency and is in late-stage trials for thalassemia and sickle cell disease. Agios also has a pipeline of other rare disease treatments in development, guided by patient input to address unmet needs. Originally focused on cancer, Agios has recently pivoted to concentrate solely on rare diseases, believing that building connections with patients and partners will unlock potential in developing life-changing therapies.\n",
       "<p>\n",
       "Agios is focused on developing treatments for rare diseases. Their lead pipeline candidate is mitapivat, a PK activator approved for treating pyruvate kinase deficiency and in late-stage trials for thalassemia and sickle cell disease. Another early-stage candidate is AG-946, also a PK activator, being studied for treating MDS-associated anemia and sickle cell disease. Agios also has several other preclinical PK activator programs for rare diseases.<p/>\n",
       "\n",
       "      <h3>Management Team</h3>\n",
       "      <ul>\n",
       "          <li> Jackie Fouse, Chief Executive Officer. Jackie Fouse, Ph.D. joined Agios as Chief Executive Officer in September 2022. She has more than 30 years of experience in the biopharmaceutical industry. Before joining Agios, Dr. Fouse served as Chief Financial Officer at Sangamo Therapeutics.\n",
       "          <li> Cecilia Jones, Chief Financial Officer. Ms. Jones has more than 20 years of financial experience within the biopharmaceutical industry, including several companies focused on rare diseases. She joins Agios from LogicBio Therapeutics, where she served as chief financial officer. Prior to her role at LogicBio, Cecilia spent more than 10 years at Biogen in roles of increasing responsibility within the finance organization.\n",
       "          <li> Scott Biller, Ph.D., Chief Scientific Officer. Dr. Biller joined Agios as Chief Scientific Officer in 2008. He oversees research and drug discovery including target biology, translational research, drug metabolism and pharmacokinetics. Before joining Agios, Dr. Biller worked at Merck Research Laboratories where he contributed to several marketed drugs across therapeutic areas such as osteoporosis, asthma, thrombosis and cancer.\n",
       "          <li> Chris Bowden, Chief Medical Officer. Dr. Bowden joined Agios as Chief Medical Officer in April 2019. He has more than 20 years of experience leading clinical development programs in oncology and rare genetic diseases. Prior to joining Agios, Dr. Bowden served as Chief Medical Officer at Audentes Therapeutics and previously held leadership roles at bluebird bio, Genentech, GSK Oncology and Merck Research Laboratories.\n",
       "          <li> Christopher Bowden, Chief Medical Officer. Dr. Bowden joined Agios as Chief Medical Officer in March 2015. He has more than 20 years of experience leading clinical development programs in oncology and rare genetic diseases. Before joining Agios, Dr. Bowden held several senior leadership positions at Bristol-Myers Squibb, including Senior Vice President of Development Sciences and Clinical Investigation. He has led multiple approvals across solid tumors and hematologic malignancies.\n",
       "    </ul>\n",
       "      \n",
       "      <h3>Press Releases (in approx. last year)</h3>\n",
       "      <ul>\n",
       "              <li> Nov 20, 2023 <a href=\"https://investor.agios.com/news-releases/news-release-details/agios-announces-clinical-proof-concept-phase-2a-trial-ag-946\">Agios Announces Clinical Proof-of-Concept in Phase 2a Trial of AG-946 for the Treatment of Anemia in Lower-Risk Myelodysplastic Syndromes</a><p/>\n",
       "                   Agios announced clinical proof-of-concept has been achieved in the Phase 2a portion of a study of investigational pyruvate kinase (PK) activator AG-946 as a potential treatment for anemia in adults with lower-risk myelodysplastic syndromes (LR-MDS). Four of the 10 patients with low transfusion burden achieved the transfusion independence endpoint, and one of the 22 patients treated achieved the hemoglobin response endpoint. The safety profile was consistent with data from a healthy volunteer study. Based on the favorable efficacy data, Agios intends to advance its clinical program evaluating AG-946 in LR-MDS by initiating the placebo-controlled Phase 2b portion of the study in mid-2024.\n",
       "              <li> Jan 08, 2024 <a href=\"https://investor.agios.com/news-releases/news-release-details/agios-announces-key-anticipated-2024-milestones-across-rare\">Agios Announces Key Anticipated 2024 Milestones Across Rare Disease Portfolio</a><p/>\n",
       "                   Agios Pharmaceuticals announced its anticipated 2024 milestones and value-driving catalysts through 2026 that support the company's mission to transform patient outcomes in rare diseases. This includes progress on studies of its lead PK activator, mitapivat, in diseases like thalassemia and sickle cell disease. It outlines upcoming data readouts from four Phase 3 studies by the end of 2025, and notes the potential for FDA approvals in thalassemia in 2025 and sickle cell disease in 2026.\n",
       "              <li> June 26, 2023 <a href=\"https://investor.agios.com/news-releases/news-release-details/agios-announces-positive-results-phase-2-portion-rise-pivotal\">Agios Announces Positive Results from Phase 2 Portion of RISE UP Pivotal Study in Sickle Cell Disease with Both Mitapivat Dose Arms Achieving Statistically Significant Hemoglobin Response</a><p/>\n",
       "                   Agios announced positive results from the Phase 2 portion of the RISE UP pivotal study evaluating mitapivat in sickle cell disease. The primary efficacy endpoint was met, with 46.2% of patients in the 50 mg BID mitapivat arm and 50.0% of patients in the 100 mg BID mitapivat arm achieving a hemoglobin response, compared to 3.7% for placebo. Improvements were seen in markers of hemolysis and erythropoiesis and annualized rates of sickle cell pain crises compared to placebo. The safety profile was consistent with prior studies. Agios plans to proceed with the Phase 3 portion of the study, enroll the first patient in Q4 2023, and potentially receive U.S. approval in 2026.\n",
       "              <li> Dec 09, 2023 <a href=\"https://investor.agios.com/news-releases/news-release-details/agios-presents-positive-results-phase-2-portion-rise-pivotal\">Agios Presents Positive Results from Phase 2 Portion of the RISE UP Pivotal Study in Sickle Cell Disease at 65th ASH Annual Meeting and Exposition</a><p/>\n",
       "                   Agios presented detailed results from the Phase 2 portion of the RISE UP study of mitapivat in sickle cell disease. The data showed statistically significant improvement in hemoglobin response compared to placebo. Improvements were also seen in rates of sickle cell pain crises and markers of hemolysis and erythropoiesis. The safety profile was consistent with prior studies. Agios selected the 100 mg BID dose for the Phase 3 portion and is currently enrolling patients, with a goal of reporting data in 2025.\n",
       "              <li> Jan 03, 2024 <a href=\"https://investor.agios.com/news-releases/news-release-details/agios-announces-phase-3-energize-study-mitapivat-met-primary\">Agios Announces Phase 3 ENERGIZE Study of Mitapivat Met Primary Endpoint and Both Key Secondary Endpoints in Adults with Non-Transfusion-Dependent Alpha- or Beta-Thalassemia</a><p/>\n",
       "                   Agios announced positive topline results from the Phase 3 ENERGIZE study evaluating mitapivat in adults with non-transfusion-dependent alpha- or beta-thalassemia. The study met its primary endpoint of hemoglobin response as well as both key secondary endpoints related to fatigue and hemoglobin concentration. Agios plans to file for regulatory approval of mitapivat for thalassemia by the end of 2024.\n",
       "              <li> Nov 02, 2023 <a href=\"https://investor.agios.com/news-releases/news-release-details/agios-pharmaceuticals-present-broad-set-clinical-and-0\">Agios Pharmaceuticals to Present Broad Set of Clinical and Translational Data in Rare Blood Disorders at 65th ASH Annual Meeting and Exposition</a><p/>\n",
       "                   Agios Pharmaceuticals will present clinical and translational data from its rare blood disorder programs at the 65th ASH Annual Meeting in December 2023. Data to be presented include results from the Phase 2 portion of the RISE UP pivotal study of mitapivat in sickle cell disease, additional data on the burden of disease in pyruvate kinase deficiency and thalassemia, and new preclinical data for AG-946 in myelodysplastic syndromes.\n",
       "              <li> Feb 22, 2024 <a href=\"https://investor.agios.com/news-releases/news-release-details/agios-present-td-cowen-44th-annual-health-care-conference-march\">Agios to Present at the TD Cowen 44th Annual Health Care Conference on March 4, 2024</a><p/>\n",
       "                   Agios Pharmaceuticals announced it will present at the TD Cowen 44th Annual Health Care Conference on March 4, 2024. The press release provides the date, time, and access details for a live webcast of the presentation.\n",
       "        </ul>\n",
       "      \n",
       "      <h3>Posters</h3>\n",
       "      No recent posters were found.\n",
       "      \n",
       "      <h3>Most recent 10K Report</h3>\n",
       "          Click <a href=\"https://www.sec.gov/edgar/browse/?CIK=0001439222\">here</a> for the PDF.\n",
       "    <hr/>\n",
       "    \n",
       "  </body>\n",
       "</html>"
      ],
      "text/plain": [
       "<IPython.core.display.HTML object>"
      ]
     },
     "metadata": {},
     "output_type": "display_data"
    }
   ],
   "source": [
    "html_template = u.strip_multiline_whitespace(\"\"\"\\\n",
    "    <html>\n",
    "      <head>\n",
    "          <title>Summary of {{ company_name }}</title>\n",
    "      </head>\n",
    "      <body>\n",
    "          <h1>Summary of {{ company_name }} <small>[generated in {{ elapsed_time }} minutes]</small></h1>\n",
    "          <h3>Company Summary</h3>\n",
    "          <p>{{ executive_summary }}<p/>\n",
    "    \n",
    "          <h3>Management Team</h3>\n",
    "          {{ leadership_team }}\n",
    "          \n",
    "          <h3>Press Releases (in approx. last year)</h3>\n",
    "          {{ press_releases }}\n",
    "          \n",
    "          <h3>Posters</h3>\n",
    "          {{ posters }}\n",
    "          \n",
    "          <h3>Most recent 10K Report</h3>\n",
    "          {{ten_k_report}}\n",
    "      </body>\n",
    "    </html>\n",
    "    \"\"\")\n",
    "kwargs = dict(\n",
    "    company_name=company_name.strip(),\n",
    "    executive_summary=generate_company_summary_html(company_name, company_URL).strip(),\n",
    "    leadership_team=generate_leadership_team_html(company_name, company_URL).strip(),\n",
    "    press_releases=generate_press_releases_html(company_name, company_URL).strip(),\n",
    "    posters=generate_posters_html(company_name, company_URL).strip(),\n",
    "    ten_k_report=tenk_report_html(company_name))\n",
    "kwargs[\"elapsed_time\"] = f\"{(time.time() - start_time)/60:.1f}\"\n",
    "html = jenv.from_string(html_template).render(**kwargs)\n",
    "(Path.cwd() / \"summaries\" / f\"{company_name.replace(' ', '-')}-summary.html\").write_text(html)\n",
    "display(HTML(html))"
   ]
  },
  {
   "cell_type": "code",
   "execution_count": 39,
   "id": "d7c26a42-b954-4d4d-af0f-58ce29559b9b",
   "metadata": {
    "tags": []
   },
   "outputs": [],
   "source": [
    "def show_results(results: List[dict]):\n",
    "    template = \"\"\"\\\n",
    "    <table>\n",
    "      <tbody>\n",
    "        <tr><th>URL</th><th>name</th><th></th></tr>\n",
    "        {% for result in results %}\n",
    "          <tr>\n",
    "            <td>{{ result.URL }}</td>\n",
    "            <td>{{ result.name }}</td>\n",
    "            <td>{{ result.html }}</td>\n",
    "          </tr>\n",
    "        {% endfor %}\n",
    "      </tbody>\n",
    "    </table>\n",
    "    \"\"\"\n",
    "    html_str = jenv.from_string(template).render(results=results)\n",
    "    (Path().cwd() / \"test-harness-results.html\").write_text(html_str)\n",
    "    return html_str\n",
    "\n",
    "def test_harness(generator_fn: Callable[Tuple[str, str], str],\n",
    "                 company_URLs: Iterable[str]):\n",
    "    \"\"\"\n",
    "    This is useful when doing prompt engineering to see what effect a given\n",
    "    change has across a set of companies, rather than just testing on\n",
    "    one company.\n",
    "    \"\"\"\n",
    "    if enable_test_harness:\n",
    "        results = []\n",
    "        for company_URL in company_URLs:\n",
    "            company_name = company_name_from_URL(company_URL)\n",
    "            html = generator_fn(company_name, company_URL)\n",
    "            print(f\"{company_URL} {company_name} -> <<{html}>>\")\n",
    "            results.append(dict(URL=company_URL, name=company_name, html=html))\n",
    "            # Dump provisional results to disc:\n",
    "            html_str = show_results(results)\n",
    "        return HTML(html_str)\n",
    "    else:\n",
    "        return None"
   ]
  },
  {
   "cell_type": "code",
   "execution_count": 40,
   "id": "80609816-765a-4dde-84ec-69c83ade3fd8",
   "metadata": {
    "tags": []
   },
   "outputs": [],
   "source": [
    "# test_harness(company_name_from_URL_as_html, company_URLs)\n",
    "test_harness(generate_company_summary_html, company_URLs)\n",
    "# test_harness(generate_leadership_team_html, company_URLs)\n",
    "# test_harness(generate_press_releases_html, company_URLs)\n",
    "# test_harness(generate_posters_html, company_URLs)"
   ]
  },
  {
   "cell_type": "code",
   "execution_count": null,
   "id": "3db29a76-9fac-4a82-91f9-c3993536fd18",
   "metadata": {},
   "outputs": [],
   "source": []
  },
  {
   "cell_type": "code",
   "execution_count": null,
   "id": "354f8a60-18ee-4322-99cf-d993e3da9ea1",
   "metadata": {},
   "outputs": [],
   "source": []
  }
 ],
 "metadata": {
  "availableInstances": [
   {
    "_defaultOrder": 0,
    "_isFastLaunch": true,
    "category": "General purpose",
    "gpuNum": 0,
    "hideHardwareSpecs": false,
    "memoryGiB": 4,
    "name": "ml.t3.medium",
    "vcpuNum": 2
   },
   {
    "_defaultOrder": 1,
    "_isFastLaunch": false,
    "category": "General purpose",
    "gpuNum": 0,
    "hideHardwareSpecs": false,
    "memoryGiB": 8,
    "name": "ml.t3.large",
    "vcpuNum": 2
   },
   {
    "_defaultOrder": 2,
    "_isFastLaunch": false,
    "category": "General purpose",
    "gpuNum": 0,
    "hideHardwareSpecs": false,
    "memoryGiB": 16,
    "name": "ml.t3.xlarge",
    "vcpuNum": 4
   },
   {
    "_defaultOrder": 3,
    "_isFastLaunch": false,
    "category": "General purpose",
    "gpuNum": 0,
    "hideHardwareSpecs": false,
    "memoryGiB": 32,
    "name": "ml.t3.2xlarge",
    "vcpuNum": 8
   },
   {
    "_defaultOrder": 4,
    "_isFastLaunch": true,
    "category": "General purpose",
    "gpuNum": 0,
    "hideHardwareSpecs": false,
    "memoryGiB": 8,
    "name": "ml.m5.large",
    "vcpuNum": 2
   },
   {
    "_defaultOrder": 5,
    "_isFastLaunch": false,
    "category": "General purpose",
    "gpuNum": 0,
    "hideHardwareSpecs": false,
    "memoryGiB": 16,
    "name": "ml.m5.xlarge",
    "vcpuNum": 4
   },
   {
    "_defaultOrder": 6,
    "_isFastLaunch": false,
    "category": "General purpose",
    "gpuNum": 0,
    "hideHardwareSpecs": false,
    "memoryGiB": 32,
    "name": "ml.m5.2xlarge",
    "vcpuNum": 8
   },
   {
    "_defaultOrder": 7,
    "_isFastLaunch": false,
    "category": "General purpose",
    "gpuNum": 0,
    "hideHardwareSpecs": false,
    "memoryGiB": 64,
    "name": "ml.m5.4xlarge",
    "vcpuNum": 16
   },
   {
    "_defaultOrder": 8,
    "_isFastLaunch": false,
    "category": "General purpose",
    "gpuNum": 0,
    "hideHardwareSpecs": false,
    "memoryGiB": 128,
    "name": "ml.m5.8xlarge",
    "vcpuNum": 32
   },
   {
    "_defaultOrder": 9,
    "_isFastLaunch": false,
    "category": "General purpose",
    "gpuNum": 0,
    "hideHardwareSpecs": false,
    "memoryGiB": 192,
    "name": "ml.m5.12xlarge",
    "vcpuNum": 48
   },
   {
    "_defaultOrder": 10,
    "_isFastLaunch": false,
    "category": "General purpose",
    "gpuNum": 0,
    "hideHardwareSpecs": false,
    "memoryGiB": 256,
    "name": "ml.m5.16xlarge",
    "vcpuNum": 64
   },
   {
    "_defaultOrder": 11,
    "_isFastLaunch": false,
    "category": "General purpose",
    "gpuNum": 0,
    "hideHardwareSpecs": false,
    "memoryGiB": 384,
    "name": "ml.m5.24xlarge",
    "vcpuNum": 96
   },
   {
    "_defaultOrder": 12,
    "_isFastLaunch": false,
    "category": "General purpose",
    "gpuNum": 0,
    "hideHardwareSpecs": false,
    "memoryGiB": 8,
    "name": "ml.m5d.large",
    "vcpuNum": 2
   },
   {
    "_defaultOrder": 13,
    "_isFastLaunch": false,
    "category": "General purpose",
    "gpuNum": 0,
    "hideHardwareSpecs": false,
    "memoryGiB": 16,
    "name": "ml.m5d.xlarge",
    "vcpuNum": 4
   },
   {
    "_defaultOrder": 14,
    "_isFastLaunch": false,
    "category": "General purpose",
    "gpuNum": 0,
    "hideHardwareSpecs": false,
    "memoryGiB": 32,
    "name": "ml.m5d.2xlarge",
    "vcpuNum": 8
   },
   {
    "_defaultOrder": 15,
    "_isFastLaunch": false,
    "category": "General purpose",
    "gpuNum": 0,
    "hideHardwareSpecs": false,
    "memoryGiB": 64,
    "name": "ml.m5d.4xlarge",
    "vcpuNum": 16
   },
   {
    "_defaultOrder": 16,
    "_isFastLaunch": false,
    "category": "General purpose",
    "gpuNum": 0,
    "hideHardwareSpecs": false,
    "memoryGiB": 128,
    "name": "ml.m5d.8xlarge",
    "vcpuNum": 32
   },
   {
    "_defaultOrder": 17,
    "_isFastLaunch": false,
    "category": "General purpose",
    "gpuNum": 0,
    "hideHardwareSpecs": false,
    "memoryGiB": 192,
    "name": "ml.m5d.12xlarge",
    "vcpuNum": 48
   },
   {
    "_defaultOrder": 18,
    "_isFastLaunch": false,
    "category": "General purpose",
    "gpuNum": 0,
    "hideHardwareSpecs": false,
    "memoryGiB": 256,
    "name": "ml.m5d.16xlarge",
    "vcpuNum": 64
   },
   {
    "_defaultOrder": 19,
    "_isFastLaunch": false,
    "category": "General purpose",
    "gpuNum": 0,
    "hideHardwareSpecs": false,
    "memoryGiB": 384,
    "name": "ml.m5d.24xlarge",
    "vcpuNum": 96
   },
   {
    "_defaultOrder": 20,
    "_isFastLaunch": false,
    "category": "General purpose",
    "gpuNum": 0,
    "hideHardwareSpecs": true,
    "memoryGiB": 0,
    "name": "ml.geospatial.interactive",
    "supportedImageNames": [
     "sagemaker-geospatial-v1-0"
    ],
    "vcpuNum": 0
   },
   {
    "_defaultOrder": 21,
    "_isFastLaunch": true,
    "category": "Compute optimized",
    "gpuNum": 0,
    "hideHardwareSpecs": false,
    "memoryGiB": 4,
    "name": "ml.c5.large",
    "vcpuNum": 2
   },
   {
    "_defaultOrder": 22,
    "_isFastLaunch": false,
    "category": "Compute optimized",
    "gpuNum": 0,
    "hideHardwareSpecs": false,
    "memoryGiB": 8,
    "name": "ml.c5.xlarge",
    "vcpuNum": 4
   },
   {
    "_defaultOrder": 23,
    "_isFastLaunch": false,
    "category": "Compute optimized",
    "gpuNum": 0,
    "hideHardwareSpecs": false,
    "memoryGiB": 16,
    "name": "ml.c5.2xlarge",
    "vcpuNum": 8
   },
   {
    "_defaultOrder": 24,
    "_isFastLaunch": false,
    "category": "Compute optimized",
    "gpuNum": 0,
    "hideHardwareSpecs": false,
    "memoryGiB": 32,
    "name": "ml.c5.4xlarge",
    "vcpuNum": 16
   },
   {
    "_defaultOrder": 25,
    "_isFastLaunch": false,
    "category": "Compute optimized",
    "gpuNum": 0,
    "hideHardwareSpecs": false,
    "memoryGiB": 72,
    "name": "ml.c5.9xlarge",
    "vcpuNum": 36
   },
   {
    "_defaultOrder": 26,
    "_isFastLaunch": false,
    "category": "Compute optimized",
    "gpuNum": 0,
    "hideHardwareSpecs": false,
    "memoryGiB": 96,
    "name": "ml.c5.12xlarge",
    "vcpuNum": 48
   },
   {
    "_defaultOrder": 27,
    "_isFastLaunch": false,
    "category": "Compute optimized",
    "gpuNum": 0,
    "hideHardwareSpecs": false,
    "memoryGiB": 144,
    "name": "ml.c5.18xlarge",
    "vcpuNum": 72
   },
   {
    "_defaultOrder": 28,
    "_isFastLaunch": false,
    "category": "Compute optimized",
    "gpuNum": 0,
    "hideHardwareSpecs": false,
    "memoryGiB": 192,
    "name": "ml.c5.24xlarge",
    "vcpuNum": 96
   },
   {
    "_defaultOrder": 29,
    "_isFastLaunch": true,
    "category": "Accelerated computing",
    "gpuNum": 1,
    "hideHardwareSpecs": false,
    "memoryGiB": 16,
    "name": "ml.g4dn.xlarge",
    "vcpuNum": 4
   },
   {
    "_defaultOrder": 30,
    "_isFastLaunch": false,
    "category": "Accelerated computing",
    "gpuNum": 1,
    "hideHardwareSpecs": false,
    "memoryGiB": 32,
    "name": "ml.g4dn.2xlarge",
    "vcpuNum": 8
   },
   {
    "_defaultOrder": 31,
    "_isFastLaunch": false,
    "category": "Accelerated computing",
    "gpuNum": 1,
    "hideHardwareSpecs": false,
    "memoryGiB": 64,
    "name": "ml.g4dn.4xlarge",
    "vcpuNum": 16
   },
   {
    "_defaultOrder": 32,
    "_isFastLaunch": false,
    "category": "Accelerated computing",
    "gpuNum": 1,
    "hideHardwareSpecs": false,
    "memoryGiB": 128,
    "name": "ml.g4dn.8xlarge",
    "vcpuNum": 32
   },
   {
    "_defaultOrder": 33,
    "_isFastLaunch": false,
    "category": "Accelerated computing",
    "gpuNum": 4,
    "hideHardwareSpecs": false,
    "memoryGiB": 192,
    "name": "ml.g4dn.12xlarge",
    "vcpuNum": 48
   },
   {
    "_defaultOrder": 34,
    "_isFastLaunch": false,
    "category": "Accelerated computing",
    "gpuNum": 1,
    "hideHardwareSpecs": false,
    "memoryGiB": 256,
    "name": "ml.g4dn.16xlarge",
    "vcpuNum": 64
   },
   {
    "_defaultOrder": 35,
    "_isFastLaunch": false,
    "category": "Accelerated computing",
    "gpuNum": 1,
    "hideHardwareSpecs": false,
    "memoryGiB": 61,
    "name": "ml.p3.2xlarge",
    "vcpuNum": 8
   },
   {
    "_defaultOrder": 36,
    "_isFastLaunch": false,
    "category": "Accelerated computing",
    "gpuNum": 4,
    "hideHardwareSpecs": false,
    "memoryGiB": 244,
    "name": "ml.p3.8xlarge",
    "vcpuNum": 32
   },
   {
    "_defaultOrder": 37,
    "_isFastLaunch": false,
    "category": "Accelerated computing",
    "gpuNum": 8,
    "hideHardwareSpecs": false,
    "memoryGiB": 488,
    "name": "ml.p3.16xlarge",
    "vcpuNum": 64
   },
   {
    "_defaultOrder": 38,
    "_isFastLaunch": false,
    "category": "Accelerated computing",
    "gpuNum": 8,
    "hideHardwareSpecs": false,
    "memoryGiB": 768,
    "name": "ml.p3dn.24xlarge",
    "vcpuNum": 96
   },
   {
    "_defaultOrder": 39,
    "_isFastLaunch": false,
    "category": "Memory Optimized",
    "gpuNum": 0,
    "hideHardwareSpecs": false,
    "memoryGiB": 16,
    "name": "ml.r5.large",
    "vcpuNum": 2
   },
   {
    "_defaultOrder": 40,
    "_isFastLaunch": false,
    "category": "Memory Optimized",
    "gpuNum": 0,
    "hideHardwareSpecs": false,
    "memoryGiB": 32,
    "name": "ml.r5.xlarge",
    "vcpuNum": 4
   },
   {
    "_defaultOrder": 41,
    "_isFastLaunch": false,
    "category": "Memory Optimized",
    "gpuNum": 0,
    "hideHardwareSpecs": false,
    "memoryGiB": 64,
    "name": "ml.r5.2xlarge",
    "vcpuNum": 8
   },
   {
    "_defaultOrder": 42,
    "_isFastLaunch": false,
    "category": "Memory Optimized",
    "gpuNum": 0,
    "hideHardwareSpecs": false,
    "memoryGiB": 128,
    "name": "ml.r5.4xlarge",
    "vcpuNum": 16
   },
   {
    "_defaultOrder": 43,
    "_isFastLaunch": false,
    "category": "Memory Optimized",
    "gpuNum": 0,
    "hideHardwareSpecs": false,
    "memoryGiB": 256,
    "name": "ml.r5.8xlarge",
    "vcpuNum": 32
   },
   {
    "_defaultOrder": 44,
    "_isFastLaunch": false,
    "category": "Memory Optimized",
    "gpuNum": 0,
    "hideHardwareSpecs": false,
    "memoryGiB": 384,
    "name": "ml.r5.12xlarge",
    "vcpuNum": 48
   },
   {
    "_defaultOrder": 45,
    "_isFastLaunch": false,
    "category": "Memory Optimized",
    "gpuNum": 0,
    "hideHardwareSpecs": false,
    "memoryGiB": 512,
    "name": "ml.r5.16xlarge",
    "vcpuNum": 64
   },
   {
    "_defaultOrder": 46,
    "_isFastLaunch": false,
    "category": "Memory Optimized",
    "gpuNum": 0,
    "hideHardwareSpecs": false,
    "memoryGiB": 768,
    "name": "ml.r5.24xlarge",
    "vcpuNum": 96
   },
   {
    "_defaultOrder": 47,
    "_isFastLaunch": false,
    "category": "Accelerated computing",
    "gpuNum": 1,
    "hideHardwareSpecs": false,
    "memoryGiB": 16,
    "name": "ml.g5.xlarge",
    "vcpuNum": 4
   },
   {
    "_defaultOrder": 48,
    "_isFastLaunch": false,
    "category": "Accelerated computing",
    "gpuNum": 1,
    "hideHardwareSpecs": false,
    "memoryGiB": 32,
    "name": "ml.g5.2xlarge",
    "vcpuNum": 8
   },
   {
    "_defaultOrder": 49,
    "_isFastLaunch": false,
    "category": "Accelerated computing",
    "gpuNum": 1,
    "hideHardwareSpecs": false,
    "memoryGiB": 64,
    "name": "ml.g5.4xlarge",
    "vcpuNum": 16
   },
   {
    "_defaultOrder": 50,
    "_isFastLaunch": false,
    "category": "Accelerated computing",
    "gpuNum": 1,
    "hideHardwareSpecs": false,
    "memoryGiB": 128,
    "name": "ml.g5.8xlarge",
    "vcpuNum": 32
   },
   {
    "_defaultOrder": 51,
    "_isFastLaunch": false,
    "category": "Accelerated computing",
    "gpuNum": 1,
    "hideHardwareSpecs": false,
    "memoryGiB": 256,
    "name": "ml.g5.16xlarge",
    "vcpuNum": 64
   },
   {
    "_defaultOrder": 52,
    "_isFastLaunch": false,
    "category": "Accelerated computing",
    "gpuNum": 4,
    "hideHardwareSpecs": false,
    "memoryGiB": 192,
    "name": "ml.g5.12xlarge",
    "vcpuNum": 48
   },
   {
    "_defaultOrder": 53,
    "_isFastLaunch": false,
    "category": "Accelerated computing",
    "gpuNum": 4,
    "hideHardwareSpecs": false,
    "memoryGiB": 384,
    "name": "ml.g5.24xlarge",
    "vcpuNum": 96
   },
   {
    "_defaultOrder": 54,
    "_isFastLaunch": false,
    "category": "Accelerated computing",
    "gpuNum": 8,
    "hideHardwareSpecs": false,
    "memoryGiB": 768,
    "name": "ml.g5.48xlarge",
    "vcpuNum": 192
   },
   {
    "_defaultOrder": 55,
    "_isFastLaunch": false,
    "category": "Accelerated computing",
    "gpuNum": 8,
    "hideHardwareSpecs": false,
    "memoryGiB": 1152,
    "name": "ml.p4d.24xlarge",
    "vcpuNum": 96
   },
   {
    "_defaultOrder": 56,
    "_isFastLaunch": false,
    "category": "Accelerated computing",
    "gpuNum": 8,
    "hideHardwareSpecs": false,
    "memoryGiB": 1152,
    "name": "ml.p4de.24xlarge",
    "vcpuNum": 96
   }
  ],
  "instance_type": "ml.t3.medium",
  "kernelspec": {
   "display_name": "generate-company-summary",
   "language": "python",
   "name": "generate-company-summary"
  },
  "language_info": {
   "codemirror_mode": {
    "name": "ipython",
    "version": 3
   },
   "file_extension": ".py",
   "mimetype": "text/x-python",
   "name": "python",
   "nbconvert_exporter": "python",
   "pygments_lexer": "ipython3",
   "version": "3.10.9"
  }
 },
 "nbformat": 4,
 "nbformat_minor": 5
}
